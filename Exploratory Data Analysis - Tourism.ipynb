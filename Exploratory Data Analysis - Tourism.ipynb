{
 "cells": [
  {
   "cell_type": "markdown",
   "id": "b5cc1b7b",
   "metadata": {},
   "source": [
    "# Brazilian cities to travel"
   ]
  },
  {
   "cell_type": "markdown",
   "id": "c525a901",
   "metadata": {},
   "source": [
    "<b> Goal: </b> This portfolio project showcases my expertise in data analysis through answering the question: \"Which Brazilian cities should I travel to?\". This is done by an in-depth examination of Brazilian cities identified by the Brazilian Ministry of Tourism as key destinations in their public policy plan (Mapa do Turismo/Tourism Map)"
   ]
  },
  {
   "cell_type": "code",
   "execution_count": 1,
   "id": "f1c7a3dc",
   "metadata": {},
   "outputs": [],
   "source": [
    "## adicionar índice [[indice]]"
   ]
  },
  {
   "cell_type": "markdown",
   "id": "b9902adf",
   "metadata": {},
   "source": [
    "## Introduction: Where to travel to?"
   ]
  },
  {
   "cell_type": "markdown",
   "id": "c0106662",
   "metadata": {},
   "source": [
    "While every destination offers unique experiences, not all locations cater equally to tourists. When thinking\n",
    "where to travel, the first factor that comes to mind finding accommodation and delicious food. Especially when traveling without family connections, prioritizing logistical infrastructure becomes crucial. <br>\n",
    "\n",
    "Therefore, my initial analysis utilizes a Tourism Map as a primary tool. This map prioritizes taking into account the performance of the tourism sector, ensuring the availability of essential amenities and services. While Brazil contains over 5,500 municipalities, the Ministry of Tourism focuses on roughly 2,600 cities within designated tourist regions, which ensures a baseline level of tourist infrastructure."
   ]
  },
  {
   "cell_type": "markdown",
   "id": "607ad6e8",
   "metadata": {},
   "source": [
    "## 1. Descriptive Analysis"
   ]
  },
  {
   "cell_type": "code",
   "execution_count": 51,
   "id": "2a736e2a",
   "metadata": {},
   "outputs": [],
   "source": [
    "import pandas as pd\n",
    "import matplotlib.pyplot as plt\n",
    "import plotly.express as px\n",
    "import seaborn as sns"
   ]
  },
  {
   "cell_type": "code",
   "execution_count": 52,
   "metadata": {},
   "outputs": [
    {
     "name": "stderr",
     "output_type": "stream",
     "text": [
      "c:\\Users\\julia\\AppData\\Local\\Programs\\Python\\Python312\\Lib\\site-packages\\openpyxl\\styles\\stylesheet.py:226: UserWarning: Workbook contains no default style, apply openpyxl's default\n",
      "  warn(\"Workbook contains no default style, apply openpyxl's default\")\n"
     ]
    },
    {
     "data": {
      "text/html": [
       "<div>\n",
       "<style scoped>\n",
       "    .dataframe tbody tr th:only-of-type {\n",
       "        vertical-align: middle;\n",
       "    }\n",
       "\n",
       "    .dataframe tbody tr th {\n",
       "        vertical-align: top;\n",
       "    }\n",
       "\n",
       "    .dataframe thead th {\n",
       "        text-align: right;\n",
       "    }\n",
       "</style>\n",
       "<table border=\"1\" class=\"dataframe\">\n",
       "  <thead>\n",
       "    <tr style=\"text-align: right;\">\n",
       "      <th></th>\n",
       "      <th>UF</th>\n",
       "      <th>Município</th>\n",
       "      <th>Região Turística</th>\n",
       "      <th>Domésticos</th>\n",
       "      <th>Internacionais</th>\n",
       "      <th>Estabelecimentos</th>\n",
       "      <th>Empregos</th>\n",
       "      <th>Arrecadação de Impostos</th>\n",
       "      <th>Categoria</th>\n",
       "    </tr>\n",
       "  </thead>\n",
       "  <tbody>\n",
       "    <tr>\n",
       "      <th>0</th>\n",
       "      <td>AC</td>\n",
       "      <td>Assis Brasil</td>\n",
       "      <td>Caminhos do Pacífico</td>\n",
       "      <td>0</td>\n",
       "      <td>27381</td>\n",
       "      <td>1</td>\n",
       "      <td>1</td>\n",
       "      <td>0</td>\n",
       "      <td>D</td>\n",
       "    </tr>\n",
       "    <tr>\n",
       "      <th>1</th>\n",
       "      <td>AC</td>\n",
       "      <td>Cruzeiro do Sul</td>\n",
       "      <td>Caminhos das Aldeias e da Biodiversidade</td>\n",
       "      <td>481</td>\n",
       "      <td>24475</td>\n",
       "      <td>11</td>\n",
       "      <td>116</td>\n",
       "      <td>241310</td>\n",
       "      <td>C</td>\n",
       "    </tr>\n",
       "    <tr>\n",
       "      <th>2</th>\n",
       "      <td>AC</td>\n",
       "      <td>Epitaciolândia</td>\n",
       "      <td>Caminhos do Pacífico</td>\n",
       "      <td>0</td>\n",
       "      <td>4785</td>\n",
       "      <td>6</td>\n",
       "      <td>31</td>\n",
       "      <td>0</td>\n",
       "      <td>D</td>\n",
       "    </tr>\n",
       "    <tr>\n",
       "      <th>3</th>\n",
       "      <td>AC</td>\n",
       "      <td>Mâncio Lima</td>\n",
       "      <td>Caminhos das Aldeias e da Biodiversidade</td>\n",
       "      <td>0</td>\n",
       "      <td>0</td>\n",
       "      <td>0</td>\n",
       "      <td>0</td>\n",
       "      <td>0</td>\n",
       "      <td>E</td>\n",
       "    </tr>\n",
       "    <tr>\n",
       "      <th>4</th>\n",
       "      <td>AC</td>\n",
       "      <td>Marechal Thaumaturgo</td>\n",
       "      <td>Caminhos das Aldeias e da Biodiversidade</td>\n",
       "      <td>263</td>\n",
       "      <td>20587</td>\n",
       "      <td>0</td>\n",
       "      <td>0</td>\n",
       "      <td>0</td>\n",
       "      <td>D</td>\n",
       "    </tr>\n",
       "  </tbody>\n",
       "</table>\n",
       "</div>"
      ],
      "text/plain": [
       "   UF             Município                          Região Turística  \\\n",
       "0  AC          Assis Brasil                      Caminhos do Pacífico   \n",
       "1  AC       Cruzeiro do Sul  Caminhos das Aldeias e da Biodiversidade   \n",
       "2  AC        Epitaciolândia                      Caminhos do Pacífico   \n",
       "3  AC           Mâncio Lima  Caminhos das Aldeias e da Biodiversidade   \n",
       "4  AC  Marechal Thaumaturgo  Caminhos das Aldeias e da Biodiversidade   \n",
       "\n",
       "   Domésticos  Internacionais  Estabelecimentos  Empregos  \\\n",
       "0           0           27381                 1         1   \n",
       "1         481           24475                11       116   \n",
       "2           0            4785                 6        31   \n",
       "3           0               0                 0         0   \n",
       "4         263           20587                 0         0   \n",
       "\n",
       "   Arrecadação de Impostos Categoria  \n",
       "0                        0         D  \n",
       "1                   241310         C  \n",
       "2                        0         D  \n",
       "3                        0         E  \n",
       "4                        0         D  "
      ]
     },
     "execution_count": 52,
     "metadata": {},
     "output_type": "execute_result"
    }
   ],
   "source": [
    "df = pd.read_excel(r\"data\\2019_MTur_Categorization.xlsx\", header = 3)\n",
    "\n",
    "df.head()"
   ]
  },
  {
   "cell_type": "code",
   "execution_count": 53,
   "id": "d137b4e2",
   "metadata": {},
   "outputs": [],
   "source": [
    "#renaming columns to english\n",
    "df.rename({'UF': 'State', \n",
    "           'Município': 'City', \n",
    "           'Região Turística': 'Tourist Region', \n",
    "           'Domésticos': 'Domestic Tourists', \n",
    "           'Internacionais': 'International Tourists',\n",
    "           'Estabelecimentos': 'Establishments', #Quantity of establishments related to tourism\n",
    "           'Empregos':'Jobs', #Quantity of jobs related to tourism\n",
    "           'Arrecadação de Impostos': 'Tax Revenue', \n",
    "           'Categoria':'Category'}, axis='columns', inplace=True)"
   ]
  },
  {
   "cell_type": "code",
   "execution_count": 54,
   "metadata": {},
   "outputs": [
    {
     "name": "stdout",
     "output_type": "stream",
     "text": [
      "<class 'pandas.core.frame.DataFrame'>\n",
      "RangeIndex: 2621 entries, 0 to 2620\n",
      "Data columns (total 9 columns):\n",
      " #   Column                  Non-Null Count  Dtype \n",
      "---  ------                  --------------  ----- \n",
      " 0   State                   2621 non-null   object\n",
      " 1   City                    2621 non-null   object\n",
      " 2   Tourist Region          2621 non-null   object\n",
      " 3   Domestic Tourists       2621 non-null   int64 \n",
      " 4   International Tourists  2621 non-null   int64 \n",
      " 5   Establishments          2621 non-null   int64 \n",
      " 6   Jobs                    2621 non-null   int64 \n",
      " 7   Tax Revenue             2621 non-null   int64 \n",
      " 8   Category                2621 non-null   object\n",
      "dtypes: int64(5), object(4)\n",
      "memory usage: 184.4+ KB\n"
     ]
    }
   ],
   "source": [
    "#showcasing data types and non-null cells in each column\n",
    "df.info()"
   ]
  },
  {
   "cell_type": "markdown",
   "id": "2baaf0ea",
   "metadata": {},
   "source": [
    "All cells have information in them, there isn't a single null object in this dataset. With the information that we have so far, no conclusion can be made, but this description can be further explored in other data."
   ]
  },
  {
   "cell_type": "markdown",
   "metadata": {},
   "source": [
    "### 1.1 Distribution of Turistic States"
   ]
  },
  {
   "cell_type": "code",
   "execution_count": 55,
   "metadata": {},
   "outputs": [
    {
     "data": {
      "text/html": [
       "<div>\n",
       "<style scoped>\n",
       "    .dataframe tbody tr th:only-of-type {\n",
       "        vertical-align: middle;\n",
       "    }\n",
       "\n",
       "    .dataframe tbody tr th {\n",
       "        vertical-align: top;\n",
       "    }\n",
       "\n",
       "    .dataframe thead th {\n",
       "        text-align: right;\n",
       "    }\n",
       "</style>\n",
       "<table border=\"1\" class=\"dataframe\">\n",
       "  <thead>\n",
       "    <tr style=\"text-align: right;\">\n",
       "      <th></th>\n",
       "      <th>State</th>\n",
       "      <th>City</th>\n",
       "      <th>% City per total Tourism Map</th>\n",
       "    </tr>\n",
       "  </thead>\n",
       "  <tbody>\n",
       "    <tr>\n",
       "      <th>0</th>\n",
       "      <td>MG</td>\n",
       "      <td>587</td>\n",
       "      <td>22.4</td>\n",
       "    </tr>\n",
       "    <tr>\n",
       "      <th>1</th>\n",
       "      <td>RS</td>\n",
       "      <td>385</td>\n",
       "      <td>14.7</td>\n",
       "    </tr>\n",
       "    <tr>\n",
       "      <th>2</th>\n",
       "      <td>SP</td>\n",
       "      <td>290</td>\n",
       "      <td>11.1</td>\n",
       "    </tr>\n",
       "    <tr>\n",
       "      <th>3</th>\n",
       "      <td>PR</td>\n",
       "      <td>175</td>\n",
       "      <td>6.7</td>\n",
       "    </tr>\n",
       "    <tr>\n",
       "      <th>4</th>\n",
       "      <td>SC</td>\n",
       "      <td>136</td>\n",
       "      <td>5.2</td>\n",
       "    </tr>\n",
       "  </tbody>\n",
       "</table>\n",
       "</div>"
      ],
      "text/plain": [
       "  State  City  % City per total Tourism Map\n",
       "0    MG   587                          22.4\n",
       "1    RS   385                          14.7\n",
       "2    SP   290                          11.1\n",
       "3    PR   175                           6.7\n",
       "4    SC   136                           5.2"
      ]
     },
     "execution_count": 55,
     "metadata": {},
     "output_type": "execute_result"
    }
   ],
   "source": [
    "#distribution of uf (States) in the 2019 dataset\n",
    "\n",
    "#creating the pivot_table in which the pie chart will be based on\n",
    "df_count_state = pd.pivot_table(data = df,\n",
    "                             values = 'City',\n",
    "                             index = 'State',\n",
    "                             aggfunc='count').sort_values(by='City',ascending=False).reset_index()\n",
    "\n",
    "df_count_state['% City per total Tourism Map'] = round((df_count_state['City']/df_count_state['City'].sum())*100,1)\n",
    "\n",
    "df_count_state.head()"
   ]
  },
  {
   "cell_type": "code",
   "execution_count": 56,
   "metadata": {},
   "outputs": [
    {
     "data": {
      "text/plain": [
       "Index(['Cod_UF', 'Nome_UF', 'Região Geográfica Intermediária',\n",
       "       'Nome Região Geográfica Intermediária', 'Região Geográfica Imediata',\n",
       "       'Nome Região Geográfica Imediata', 'Mesorregião Geográfica',\n",
       "       'Nome_Mesorregião', 'Microrregião Geográfica', 'Nome_Microrregião',\n",
       "       'Município', 'Código Município Completo', 'MUNICIPIO', 'UF'],\n",
       "      dtype='object')"
      ]
     },
     "execution_count": 56,
     "metadata": {},
     "output_type": "execute_result"
    }
   ],
   "source": [
    "# comparing the distribution in the categorized dataset to that of all brazilian cities\n",
    "\n",
    "df_city_br = pd.read_excel(r\"data\\BR_code_cities_states.xls\", header = 6)\n",
    "\n",
    "df_city_br.columns"
   ]
  },
  {
   "cell_type": "code",
   "execution_count": 57,
   "id": "3df67c7f",
   "metadata": {},
   "outputs": [
    {
     "data": {
      "text/html": [
       "<div>\n",
       "<style scoped>\n",
       "    .dataframe tbody tr th:only-of-type {\n",
       "        vertical-align: middle;\n",
       "    }\n",
       "\n",
       "    .dataframe tbody tr th {\n",
       "        vertical-align: top;\n",
       "    }\n",
       "\n",
       "    .dataframe thead th {\n",
       "        text-align: right;\n",
       "    }\n",
       "</style>\n",
       "<table border=\"1\" class=\"dataframe\">\n",
       "  <thead>\n",
       "    <tr style=\"text-align: right;\">\n",
       "      <th></th>\n",
       "      <th>State</th>\n",
       "      <th>City</th>\n",
       "      <th>% City per total in Brazil</th>\n",
       "    </tr>\n",
       "  </thead>\n",
       "  <tbody>\n",
       "    <tr>\n",
       "      <th>0</th>\n",
       "      <td>MG</td>\n",
       "      <td>853</td>\n",
       "      <td>15.3</td>\n",
       "    </tr>\n",
       "    <tr>\n",
       "      <th>1</th>\n",
       "      <td>SP</td>\n",
       "      <td>645</td>\n",
       "      <td>11.6</td>\n",
       "    </tr>\n",
       "    <tr>\n",
       "      <th>2</th>\n",
       "      <td>RS</td>\n",
       "      <td>497</td>\n",
       "      <td>8.9</td>\n",
       "    </tr>\n",
       "    <tr>\n",
       "      <th>3</th>\n",
       "      <td>BA</td>\n",
       "      <td>417</td>\n",
       "      <td>7.5</td>\n",
       "    </tr>\n",
       "    <tr>\n",
       "      <th>4</th>\n",
       "      <td>PR</td>\n",
       "      <td>399</td>\n",
       "      <td>7.2</td>\n",
       "    </tr>\n",
       "  </tbody>\n",
       "</table>\n",
       "</div>"
      ],
      "text/plain": [
       "  State  City  % City per total in Brazil\n",
       "0    MG   853                        15.3\n",
       "1    SP   645                        11.6\n",
       "2    RS   497                         8.9\n",
       "3    BA   417                         7.5\n",
       "4    PR   399                         7.2"
      ]
     },
     "execution_count": 57,
     "metadata": {},
     "output_type": "execute_result"
    }
   ],
   "source": [
    "# making a pivot table of the total cities in Brazil \n",
    "#in order to compare the distribution of the total turist cities \n",
    "\n",
    "#first, renaming the columns that will be used\n",
    "\n",
    "df_city_br.rename({'UF': 'State', \n",
    "                  'MUNICIPIO': 'City'}, axis='columns', inplace=True)\n",
    "\n",
    "df_city_br_total = pd.pivot_table(data = df_city_br,\n",
    "                             values = 'City',\n",
    "                             index = 'State',\n",
    "                             aggfunc='count').sort_values(by='City',ascending=False).reset_index()\n",
    "\n",
    "df_city_br_total['% City per total in Brazil'] = round((df_city_br_total['City']/df_city_br_total['City'].sum())*100,1)\n",
    "\n",
    "df_city_br_total.head()"
   ]
  },
  {
   "cell_type": "code",
   "execution_count": 58,
   "id": "892add25",
   "metadata": {},
   "outputs": [
    {
     "data": {
      "text/html": [
       "<div>\n",
       "<style scoped>\n",
       "    .dataframe tbody tr th:only-of-type {\n",
       "        vertical-align: middle;\n",
       "    }\n",
       "\n",
       "    .dataframe tbody tr th {\n",
       "        vertical-align: top;\n",
       "    }\n",
       "\n",
       "    .dataframe thead th {\n",
       "        text-align: right;\n",
       "    }\n",
       "</style>\n",
       "<table border=\"1\" class=\"dataframe\">\n",
       "  <thead>\n",
       "    <tr style=\"text-align: right;\">\n",
       "      <th></th>\n",
       "      <th>State</th>\n",
       "      <th>Proportion</th>\n",
       "      <th>% Percentage</th>\n",
       "    </tr>\n",
       "  </thead>\n",
       "  <tbody>\n",
       "    <tr>\n",
       "      <th>0</th>\n",
       "      <td>MG</td>\n",
       "      <td>% City per total Tourism Map</td>\n",
       "      <td>22.4</td>\n",
       "    </tr>\n",
       "    <tr>\n",
       "      <th>1</th>\n",
       "      <td>RS</td>\n",
       "      <td>% City per total Tourism Map</td>\n",
       "      <td>14.7</td>\n",
       "    </tr>\n",
       "    <tr>\n",
       "      <th>2</th>\n",
       "      <td>SP</td>\n",
       "      <td>% City per total Tourism Map</td>\n",
       "      <td>11.1</td>\n",
       "    </tr>\n",
       "    <tr>\n",
       "      <th>3</th>\n",
       "      <td>PR</td>\n",
       "      <td>% City per total Tourism Map</td>\n",
       "      <td>6.7</td>\n",
       "    </tr>\n",
       "    <tr>\n",
       "      <th>4</th>\n",
       "      <td>SC</td>\n",
       "      <td>% City per total Tourism Map</td>\n",
       "      <td>5.2</td>\n",
       "    </tr>\n",
       "  </tbody>\n",
       "</table>\n",
       "</div>"
      ],
      "text/plain": [
       "  State                    Proportion  % Percentage\n",
       "0    MG  % City per total Tourism Map          22.4\n",
       "1    RS  % City per total Tourism Map          14.7\n",
       "2    SP  % City per total Tourism Map          11.1\n",
       "3    PR  % City per total Tourism Map           6.7\n",
       "4    SC  % City per total Tourism Map           5.2"
      ]
     },
     "execution_count": 58,
     "metadata": {},
     "output_type": "execute_result"
    }
   ],
   "source": [
    "#merging the first pivot table and the total\n",
    "df_compare = pd.merge(df_count_state[['State','% City per total Tourism Map']],\n",
    "                     df_city_br_total[['State','% City per total in Brazil']], \n",
    "                     how = \"outer\", \n",
    "                     on='State')\n",
    "\n",
    "df_compare = df_compare.melt(id_vars='State',value_name='% Percentage',var_name = 'Proportion').rename(columns=str.title)\n",
    "\n",
    "df_compare.head()"
   ]
  },
  {
   "cell_type": "code",
   "execution_count": 59,
   "id": "cb34ac0f",
   "metadata": {},
   "outputs": [
    {
     "data": {
      "image/png": "[encoded data removed]",
      "text/plain": [
       "<Figure size 1500x600 with 1 Axes>"
      ]
     },
     "metadata": {},
     "output_type": "display_data"
    }
   ],
   "source": [
    "plt.figure(figsize=(15,6))\n",
    "fig_states = sns.barplot(\n",
    "            data=df_compare, \n",
    "            x=\"State\", \n",
    "            y=\"% Percentage\", \n",
    "            hue=\"Proportion\",\n",
    "            palette=\"dark\"\n",
    ")\n",
    "\n",
    "fig_states.set_title(\"Comparing Tursitic Cities distribution to all Brazilian cities\")\n",
    "fig_states.margins(y=0.1) # make room for the labels\n",
    "for bars in fig_states.containers:\n",
    "   fig_states.bar_label(bars, fmt='%.1f')"
   ]
  },
  {
   "cell_type": "markdown",
   "metadata": {},
   "source": [
    "Generally, <b> the distribution accompanies the general distribution of cities in Brazil as a whole</b>. Some notable exceptions are: RS (Rio Grande do Sul), BA (Bahia) and PI (Piauí). Therefore, we can conclude that there is not a significant misrepresentation of each reagion, even though the database is imbalanced."
   ]
  },
  {
   "cell_type": "markdown",
   "metadata": {},
   "source": [
    "### 1.2 Quantitative Measures"
   ]
  },
  {
   "cell_type": "code",
   "execution_count": 60,
   "metadata": {},
   "outputs": [
    {
     "data": {
      "text/html": [
       "<div>\n",
       "<style scoped>\n",
       "    .dataframe tbody tr th:only-of-type {\n",
       "        vertical-align: middle;\n",
       "    }\n",
       "\n",
       "    .dataframe tbody tr th {\n",
       "        vertical-align: top;\n",
       "    }\n",
       "\n",
       "    .dataframe thead th {\n",
       "        text-align: right;\n",
       "    }\n",
       "</style>\n",
       "<table border=\"1\" class=\"dataframe\">\n",
       "  <thead>\n",
       "    <tr style=\"text-align: right;\">\n",
       "      <th></th>\n",
       "      <th>Domestic Tourists</th>\n",
       "      <th>International Tourists</th>\n",
       "      <th>Establishments</th>\n",
       "      <th>Jobs</th>\n",
       "      <th>Tax Revenue</th>\n",
       "    </tr>\n",
       "  </thead>\n",
       "  <tbody>\n",
       "    <tr>\n",
       "      <th>count</th>\n",
       "      <td>2.621000e+03</td>\n",
       "      <td>2.621000e+03</td>\n",
       "      <td>2621.000000</td>\n",
       "      <td>2621.000000</td>\n",
       "      <td>2.621000e+03</td>\n",
       "    </tr>\n",
       "    <tr>\n",
       "      <th>mean</th>\n",
       "      <td>3.011899e+03</td>\n",
       "      <td>5.534732e+04</td>\n",
       "      <td>6.697062</td>\n",
       "      <td>82.580313</td>\n",
       "      <td>9.952682e+05</td>\n",
       "    </tr>\n",
       "    <tr>\n",
       "      <th>std</th>\n",
       "      <td>3.748660e+04</td>\n",
       "      <td>2.913402e+05</td>\n",
       "      <td>20.912444</td>\n",
       "      <td>487.521166</td>\n",
       "      <td>9.461004e+06</td>\n",
       "    </tr>\n",
       "    <tr>\n",
       "      <th>min</th>\n",
       "      <td>0.000000e+00</td>\n",
       "      <td>0.000000e+00</td>\n",
       "      <td>0.000000</td>\n",
       "      <td>0.000000</td>\n",
       "      <td>0.000000e+00</td>\n",
       "    </tr>\n",
       "    <tr>\n",
       "      <th>25%</th>\n",
       "      <td>0.000000e+00</td>\n",
       "      <td>0.000000e+00</td>\n",
       "      <td>0.000000</td>\n",
       "      <td>0.000000</td>\n",
       "      <td>0.000000e+00</td>\n",
       "    </tr>\n",
       "    <tr>\n",
       "      <th>50%</th>\n",
       "      <td>0.000000e+00</td>\n",
       "      <td>4.227000e+03</td>\n",
       "      <td>2.000000</td>\n",
       "      <td>5.000000</td>\n",
       "      <td>0.000000e+00</td>\n",
       "    </tr>\n",
       "    <tr>\n",
       "      <th>75%</th>\n",
       "      <td>3.120000e+02</td>\n",
       "      <td>2.448600e+04</td>\n",
       "      <td>5.000000</td>\n",
       "      <td>30.000000</td>\n",
       "      <td>0.000000e+00</td>\n",
       "    </tr>\n",
       "    <tr>\n",
       "      <th>max</th>\n",
       "      <td>1.651696e+06</td>\n",
       "      <td>7.119416e+06</td>\n",
       "      <td>431.000000</td>\n",
       "      <td>17946.000000</td>\n",
       "      <td>4.021993e+08</td>\n",
       "    </tr>\n",
       "  </tbody>\n",
       "</table>\n",
       "</div>"
      ],
      "text/plain": [
       "       Domestic Tourists  International Tourists  Establishments  \\\n",
       "count       2.621000e+03            2.621000e+03     2621.000000   \n",
       "mean        3.011899e+03            5.534732e+04        6.697062   \n",
       "std         3.748660e+04            2.913402e+05       20.912444   \n",
       "min         0.000000e+00            0.000000e+00        0.000000   \n",
       "25%         0.000000e+00            0.000000e+00        0.000000   \n",
       "50%         0.000000e+00            4.227000e+03        2.000000   \n",
       "75%         3.120000e+02            2.448600e+04        5.000000   \n",
       "max         1.651696e+06            7.119416e+06      431.000000   \n",
       "\n",
       "               Jobs   Tax Revenue  \n",
       "count   2621.000000  2.621000e+03  \n",
       "mean      82.580313  9.952682e+05  \n",
       "std      487.521166  9.461004e+06  \n",
       "min        0.000000  0.000000e+00  \n",
       "25%        0.000000  0.000000e+00  \n",
       "50%        5.000000  0.000000e+00  \n",
       "75%       30.000000  0.000000e+00  \n",
       "max    17946.000000  4.021993e+08  "
      ]
     },
     "execution_count": 60,
     "metadata": {},
     "output_type": "execute_result"
    }
   ],
   "source": [
    "#seeing most numbers\n",
    "df.describe()"
   ]
  },
  {
   "cell_type": "markdown",
   "metadata": {},
   "source": [
    "Looking at the numbers above, there are noteworthy trends that need to be discussed:\n",
    "1) <b> ZEROS:</b> On most columns, the lower quartile is 0, what shows that a good chunk of the data is 0. To understand the distribution of these columns, let's create a histogram and a boxplot. This will reveal potential outliers, skew, and normality, which are crucial for further analysis. This information, accompanied to the fact that there isn't a single null in this dataset, turns us to the hypothesis that missing values were replaced with zeros. <br>\n",
    "<br>\n",
    "2) <b> MEAN versus MEDIAN:</b> A common way to infer the distribution of data is looking through the difference between the values of mean and median. In this dataset, there is a significant distance between both metrics, signalizing that there many outliers and internal groups that can be categorized. Therefore, it is important to analyze how the categories (column \"Category\") differ in each metric. <br>"
   ]
  },
  {
   "cell_type": "markdown",
   "id": "6bbec8f1",
   "metadata": {},
   "source": [
    "#### 1.21 Zeros"
   ]
  },
  {
   "cell_type": "code",
   "execution_count": 81,
   "id": "108fc834",
   "metadata": {},
   "outputs": [
    {
     "data": {
      "text/plain": [
       "[Text(0.5, 1.0, 'Establishments distribution in the database')]"
      ]
     },
     "execution_count": 81,
     "metadata": {},
     "output_type": "execute_result"
    },
    {
     "data": {
      "image/png": "[encoded data removed]",
      "text/plain": [
       "<Figure size 640x480 with 1 Axes>"
      ]
     },
     "metadata": {},
     "output_type": "display_data"
    }
   ],
   "source": [
    "sns.histplot(data = df, \n",
    "             x='Establishments').set(title = \"Establishments distribution in the database\")"
   ]
  },
  {
   "cell_type": "markdown",
   "id": "38cf7e29",
   "metadata": {},
   "source": [
    "Analyzing the histogram above, there are a large number of variables with the number zero. Therefore, this must mean that what would be null/empty was replaced by 0. In order to make the analysis more accurate and clean the database, it is convenient to remove all quantitative columns with only number 0."
   ]
  },
  {
   "cell_type": "code",
   "execution_count": 75,
   "id": "c3306b59",
   "metadata": {},
   "outputs": [
    {
     "data": {
      "text/html": [
       "<div>\n",
       "<style scoped>\n",
       "    .dataframe tbody tr th:only-of-type {\n",
       "        vertical-align: middle;\n",
       "    }\n",
       "\n",
       "    .dataframe tbody tr th {\n",
       "        vertical-align: top;\n",
       "    }\n",
       "\n",
       "    .dataframe thead th {\n",
       "        text-align: right;\n",
       "    }\n",
       "</style>\n",
       "<table border=\"1\" class=\"dataframe\">\n",
       "  <thead>\n",
       "    <tr style=\"text-align: right;\">\n",
       "      <th></th>\n",
       "      <th>State</th>\n",
       "      <th>City</th>\n",
       "      <th>Tourist Region</th>\n",
       "      <th>Domestic Tourists</th>\n",
       "      <th>International Tourists</th>\n",
       "      <th>Establishments</th>\n",
       "      <th>Jobs</th>\n",
       "      <th>Tax Revenue</th>\n",
       "      <th>Category</th>\n",
       "    </tr>\n",
       "  </thead>\n",
       "  <tbody>\n",
       "    <tr>\n",
       "      <th>3</th>\n",
       "      <td>AC</td>\n",
       "      <td>Mâncio Lima</td>\n",
       "      <td>Caminhos das Aldeias e da Biodiversidade</td>\n",
       "      <td>0</td>\n",
       "      <td>0</td>\n",
       "      <td>0</td>\n",
       "      <td>0</td>\n",
       "      <td>0</td>\n",
       "      <td>E</td>\n",
       "    </tr>\n",
       "    <tr>\n",
       "      <th>6</th>\n",
       "      <td>AC</td>\n",
       "      <td>Porto Acre</td>\n",
       "      <td>Caminhos da Revolução</td>\n",
       "      <td>0</td>\n",
       "      <td>0</td>\n",
       "      <td>0</td>\n",
       "      <td>0</td>\n",
       "      <td>0</td>\n",
       "      <td>E</td>\n",
       "    </tr>\n",
       "    <tr>\n",
       "      <th>9</th>\n",
       "      <td>AC</td>\n",
       "      <td>Rodrigues Alves</td>\n",
       "      <td>Caminhos das Aldeias e da Biodiversidade</td>\n",
       "      <td>0</td>\n",
       "      <td>0</td>\n",
       "      <td>0</td>\n",
       "      <td>0</td>\n",
       "      <td>0</td>\n",
       "      <td>E</td>\n",
       "    </tr>\n",
       "    <tr>\n",
       "      <th>18</th>\n",
       "      <td>AL</td>\n",
       "      <td>Chã Preta</td>\n",
       "      <td>REGIÃO DOS QUILOMBOS</td>\n",
       "      <td>0</td>\n",
       "      <td>0</td>\n",
       "      <td>0</td>\n",
       "      <td>0</td>\n",
       "      <td>0</td>\n",
       "      <td>E</td>\n",
       "    </tr>\n",
       "    <tr>\n",
       "      <th>27</th>\n",
       "      <td>AL</td>\n",
       "      <td>Limoeiro de Anadia</td>\n",
       "      <td>REGIÃO DO AGRESTE</td>\n",
       "      <td>0</td>\n",
       "      <td>0</td>\n",
       "      <td>0</td>\n",
       "      <td>0</td>\n",
       "      <td>0</td>\n",
       "      <td>E</td>\n",
       "    </tr>\n",
       "  </tbody>\n",
       "</table>\n",
       "</div>"
      ],
      "text/plain": [
       "   State                City                            Tourist Region  \\\n",
       "3     AC         Mâncio Lima  Caminhos das Aldeias e da Biodiversidade   \n",
       "6     AC          Porto Acre                     Caminhos da Revolução   \n",
       "9     AC     Rodrigues Alves  Caminhos das Aldeias e da Biodiversidade   \n",
       "18    AL           Chã Preta                      REGIÃO DOS QUILOMBOS   \n",
       "27    AL  Limoeiro de Anadia                         REGIÃO DO AGRESTE   \n",
       "\n",
       "    Domestic Tourists  International Tourists  Establishments  Jobs  \\\n",
       "3                   0                       0               0     0   \n",
       "6                   0                       0               0     0   \n",
       "9                   0                       0               0     0   \n",
       "18                  0                       0               0     0   \n",
       "27                  0                       0               0     0   \n",
       "\n",
       "    Tax Revenue Category  \n",
       "3             0        E  \n",
       "6             0        E  \n",
       "9             0        E  \n",
       "18            0        E  \n",
       "27            0        E  "
      ]
     },
     "execution_count": 75,
     "metadata": {},
     "output_type": "execute_result"
    }
   ],
   "source": [
    "df0 = df.loc[(df[['Jobs',\n",
    "           'Establishments',\n",
    "           'Domestic Tourists', \n",
    "           'International Tourists']] == 0).all(axis=1)]\n",
    "\n",
    "df0.head()"
   ]
  },
  {
   "cell_type": "markdown",
   "id": "a08239ef",
   "metadata": {},
   "source": [
    "Before proceeding with further analysis, let's explore this dataset to understand the variables that would be removed"
   ]
  },
  {
   "cell_type": "code",
   "execution_count": 70,
   "metadata": {},
   "outputs": [
    {
     "data": {
      "text/html": [
       "<div>\n",
       "<style scoped>\n",
       "    .dataframe tbody tr th:only-of-type {\n",
       "        vertical-align: middle;\n",
       "    }\n",
       "\n",
       "    .dataframe tbody tr th {\n",
       "        vertical-align: top;\n",
       "    }\n",
       "\n",
       "    .dataframe thead th {\n",
       "        text-align: right;\n",
       "    }\n",
       "</style>\n",
       "<table border=\"1\" class=\"dataframe\">\n",
       "  <thead>\n",
       "    <tr style=\"text-align: right;\">\n",
       "      <th></th>\n",
       "      <th>Category</th>\n",
       "      <th>City</th>\n",
       "    </tr>\n",
       "  </thead>\n",
       "  <tbody>\n",
       "    <tr>\n",
       "      <th>0</th>\n",
       "      <td>E</td>\n",
       "      <td>426</td>\n",
       "    </tr>\n",
       "    <tr>\n",
       "      <th>1</th>\n",
       "      <td>D</td>\n",
       "      <td>78</td>\n",
       "    </tr>\n",
       "  </tbody>\n",
       "</table>\n",
       "</div>"
      ],
      "text/plain": [
       "  Category  City\n",
       "0        E   426\n",
       "1        D    78"
      ]
     },
     "execution_count": 70,
     "metadata": {},
     "output_type": "execute_result"
    }
   ],
   "source": [
    "#dividing by categories \n",
    "pd.pivot_table(data = df0,\n",
    "               values = 'City',\n",
    "               index = 'Category',\n",
    "               aggfunc='count').sort_values(by='Category',ascending=False).reset_index()"
   ]
  },
  {
   "cell_type": "code",
   "execution_count": 72,
   "id": "3b9b71fc",
   "metadata": {},
   "outputs": [
    {
     "data": {
      "text/plain": [
       "0.192293017932087"
      ]
     },
     "execution_count": 72,
     "metadata": {},
     "output_type": "execute_result"
    }
   ],
   "source": [
    "#calculating how many rows would be dropped\n",
    "len(df0)/len(df)"
   ]
  },
  {
   "cell_type": "markdown",
   "id": "4529bfc2",
   "metadata": {},
   "source": [
    "Around 19% of the original dataset would be dropped if we were to delete all rows with zeros.Upon further analysis, this pattern persists across all historical datasets, suggesting that these zeros are intentional and hold meaning within the context of the data. It is also worth pointing out that all rows contain cities categorized as D and E, which are expected to have lower values. It requires further analysis to understand how to treat these categories.\n",
    "\n",
    "An important side question that arises from this analysis is: If all rows have the same values in all variables, why some are categorized as D and others E? "
   ]
  },
  {
   "cell_type": "markdown",
   "id": "ee6198a6",
   "metadata": {},
   "source": [
    "#### 1.22 Cluster Variation"
   ]
  },
  {
   "cell_type": "code",
   "execution_count": 71,
   "id": "1a85d681",
   "metadata": {},
   "outputs": [
    {
     "data": {
      "image/png": "[encoded data removed]",
      "text/plain": [
       "<Figure size 1200x700 with 4 Axes>"
      ]
     },
     "metadata": {},
     "output_type": "display_data"
    }
   ],
   "source": [
    "#creatingg multiple boxplots in order to understand the distribution of zeros in each column\n",
    "fig, ax = plt.subplots(2,2, figsize = (12,7))\n",
    "\n",
    "#selecting columns\n",
    "columns = ['Jobs',\n",
    "           'Establishments',\n",
    "           'Domestic Tourists', \n",
    "           'International Tourists']\n",
    "\n",
    "#making a for loop to create each dataviz \n",
    "col = 0\n",
    "for i in range(2):\n",
    "    for j in range(2):\n",
    "        sns.boxplot(data = df.sort_values(by=['Category']), \n",
    "                    y = columns[col], \n",
    "                    hue=\"Category\", #making the hue by Category\n",
    "                    ax = ax[i,j]) \n",
    "        ax[i,j].set_title(f\"{columns[col]}\")\n",
    "        col+=1\n",
    "plt.tight_layout()\n"
   ]
  },
  {
   "cell_type": "markdown",
   "id": "8173e0c8",
   "metadata": {},
   "source": [
    "análise do boxplot:\n",
    "- Os boxplots são bem condizentes com a categorização, não tem nenhum boxplot que sai do esperado das categorias.\n",
    "- Muitos outliers na categoria A e B\n",
    "- Pouca coisa nas categorias D e E => Explorar mais"
   ]
  },
  {
   "cell_type": "markdown",
   "id": "acead869",
   "metadata": {},
   "source": [
    "##"
   ]
  },
  {
   "cell_type": "code",
   "execution_count": null,
   "id": "475da66a",
   "metadata": {},
   "outputs": [],
   "source": []
  },
  {
   "cell_type": "markdown",
   "id": "9655c810",
   "metadata": {},
   "source": [
    "Com tudo que sabemos até agora, parece que os dados das cidades categorizadas D e E realmente são pouco interessantes para essa análise. Portanto, as próximas análises"
   ]
  },
  {
   "cell_type": "markdown",
   "id": "e956d61c",
   "metadata": {},
   "source": [
    "Análises\n",
    "\n",
    "1) Histórico:\n",
    "    - "
   ]
  }
 ],
 "metadata": {
  "kernelspec": {
   "display_name": "Python 3",
   "language": "python",
   "name": "python3"
  },
  "language_info": {
   "codemirror_mode": {
    "name": "ipython",
    "version": 3
   },
   "file_extension": ".py",
   "mimetype": "text/x-python",
   "name": "python",
   "nbconvert_exporter": "python",
   "pygments_lexer": "ipython3",
   "version": "3.12.0"
  }
 },
 "nbformat": 4,
 "nbformat_minor": 5
}
