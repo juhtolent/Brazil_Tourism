{
 "cells": [
  {
   "cell_type": "markdown",
   "id": "b5cc1b7b",
   "metadata": {},
   "source": [
    "# Brazilian cities to travel"
   ]
  },
  {
   "cell_type": "markdown",
   "id": "c525a901",
   "metadata": {},
   "source": [
    "<b> Goal: </b> This portfolio project showcases my expertise in data analysis through answering the question: \"Which Brazilian cities should I travel to?\". This is done by an in-depth examination of Brazilian cities identified by the Brazilian Ministry of Tourism as key destinations in their public policy plan (Mapa do Turismo/Tourism Map)"
   ]
  },
  {
   "cell_type": "code",
   "execution_count": 1,
   "id": "f1c7a3dc",
   "metadata": {},
   "outputs": [],
   "source": [
    "## adicionar índice [[indice]]"
   ]
  },
  {
   "cell_type": "markdown",
   "id": "b9902adf",
   "metadata": {},
   "source": [
    "## Introduction: Where to travel to?"
   ]
  },
  {
   "cell_type": "markdown",
   "id": "c0106662",
   "metadata": {},
   "source": [
    "While every destination offers unique experiences, not all locations cater equally to tourists. When thinking\n",
    "where to travel, the first factor that comes to mind finding accommodation and delicious food. Especially when traveling without family connections, prioritizing logistical infrastructure becomes crucial. <br>\n",
    "\n",
    "Therefore, my initial analysis utilizes a Tourism Map as a primary tool. This map prioritizes taking into account the performance of the tourism sector, ensuring the availability of essential amenities and services. While Brazil contains over 5,500 municipalities, the Ministry of Tourism focuses on roughly 2,600 cities within designated tourist regions, which ensures a baseline level of tourist infrastructure."
   ]
  },
  {
   "cell_type": "markdown",
   "id": "607ad6e8",
   "metadata": {},
   "source": [
    "## Descriptive Analysis"
   ]
  },
  {
   "cell_type": "code",
   "execution_count": 2,
   "id": "2a736e2a",
   "metadata": {},
   "outputs": [],
   "source": [
    "import pandas as pd\n",
    "import matplotlib.pyplot as plt\n",
    "import plotly.express as px\n",
    "import seaborn as sns"
   ]
  },
  {
   "cell_type": "code",
   "execution_count": 47,
   "id": "e78f7a33",
   "metadata": {},
   "outputs": [
    {
     "data": {
      "image/png": "[encoded data removed]",
      "text/plain": [
       "<Figure size 700x100 with 1 Axes>"
      ]
     },
     "metadata": {},
     "output_type": "display_data"
    }
   ],
   "source": [
    "#setting the style of subsequent charts\n",
    "colors = ['#003f5c','#374c80','#7a5195','#bc5090','#ef5675','#ed9231','#f2ff49']\n",
    "\n",
    "sns.palplot(sns.color_palette(colors))\n",
    "sns.set_palette(sns.color_palette(colors))\n"
   ]
  },
  {
   "cell_type": "code",
   "execution_count": 3,
   "metadata": {},
   "outputs": [
    {
     "data": {
      "text/html": [
       "<div>\n",
       "<style scoped>\n",
       "    .dataframe tbody tr th:only-of-type {\n",
       "        vertical-align: middle;\n",
       "    }\n",
       "\n",
       "    .dataframe tbody tr th {\n",
       "        vertical-align: top;\n",
       "    }\n",
       "\n",
       "    .dataframe thead th {\n",
       "        text-align: right;\n",
       "    }\n",
       "</style>\n",
       "<table border=\"1\" class=\"dataframe\">\n",
       "  <thead>\n",
       "    <tr style=\"text-align: right;\">\n",
       "      <th></th>\n",
       "      <th>UF</th>\n",
       "      <th>Município</th>\n",
       "      <th>Região Turística</th>\n",
       "      <th>Domésticos</th>\n",
       "      <th>Internacionais</th>\n",
       "      <th>Estabelecimentos</th>\n",
       "      <th>Empregos</th>\n",
       "      <th>Arrecadação de Impostos</th>\n",
       "      <th>Categoria</th>\n",
       "      <th>Código Município</th>\n",
       "    </tr>\n",
       "  </thead>\n",
       "  <tbody>\n",
       "    <tr>\n",
       "      <th>0</th>\n",
       "      <td>MG</td>\n",
       "      <td>Abaeté</td>\n",
       "      <td>Lago de Três Marias</td>\n",
       "      <td>245</td>\n",
       "      <td>8415</td>\n",
       "      <td>3</td>\n",
       "      <td>16</td>\n",
       "      <td>0</td>\n",
       "      <td>D</td>\n",
       "      <td>3100203.0</td>\n",
       "    </tr>\n",
       "    <tr>\n",
       "      <th>1</th>\n",
       "      <td>PA</td>\n",
       "      <td>Abaetetuba</td>\n",
       "      <td>Região Turística do Tocantins</td>\n",
       "      <td>181</td>\n",
       "      <td>29939</td>\n",
       "      <td>5</td>\n",
       "      <td>12</td>\n",
       "      <td>0</td>\n",
       "      <td>D</td>\n",
       "      <td>1500107.0</td>\n",
       "    </tr>\n",
       "    <tr>\n",
       "      <th>2</th>\n",
       "      <td>BA</td>\n",
       "      <td>Abaíra</td>\n",
       "      <td>Chapada Diamantina</td>\n",
       "      <td>0</td>\n",
       "      <td>0</td>\n",
       "      <td>2</td>\n",
       "      <td>5</td>\n",
       "      <td>0</td>\n",
       "      <td>D</td>\n",
       "      <td>2900108.0</td>\n",
       "    </tr>\n",
       "    <tr>\n",
       "      <th>3</th>\n",
       "      <td>SC</td>\n",
       "      <td>Abdon Batista</td>\n",
       "      <td>Vale dos Imigrantes</td>\n",
       "      <td>0</td>\n",
       "      <td>0</td>\n",
       "      <td>0</td>\n",
       "      <td>0</td>\n",
       "      <td>0</td>\n",
       "      <td>E</td>\n",
       "      <td>4200051.0</td>\n",
       "    </tr>\n",
       "    <tr>\n",
       "      <th>4</th>\n",
       "      <td>SC</td>\n",
       "      <td>Abelardo Luz</td>\n",
       "      <td>Grande Oeste</td>\n",
       "      <td>0</td>\n",
       "      <td>10515</td>\n",
       "      <td>4</td>\n",
       "      <td>14</td>\n",
       "      <td>0</td>\n",
       "      <td>D</td>\n",
       "      <td>4200101.0</td>\n",
       "    </tr>\n",
       "  </tbody>\n",
       "</table>\n",
       "</div>"
      ],
      "text/plain": [
       "   UF      Município               Região Turística  Domésticos  \\\n",
       "0  MG         Abaeté            Lago de Três Marias         245   \n",
       "1  PA     Abaetetuba  Região Turística do Tocantins         181   \n",
       "2  BA         Abaíra             Chapada Diamantina           0   \n",
       "3  SC  Abdon Batista            Vale dos Imigrantes           0   \n",
       "4  SC   Abelardo Luz                   Grande Oeste           0   \n",
       "\n",
       "   Internacionais  Estabelecimentos  Empregos  Arrecadação de Impostos  \\\n",
       "0            8415                 3        16                        0   \n",
       "1           29939                 5        12                        0   \n",
       "2               0                 2         5                        0   \n",
       "3               0                 0         0                        0   \n",
       "4           10515                 4        14                        0   \n",
       "\n",
       "  Categoria  Código Município  \n",
       "0         D         3100203.0  \n",
       "1         D         1500107.0  \n",
       "2         D         2900108.0  \n",
       "3         E         4200051.0  \n",
       "4         D         4200101.0  "
      ]
     },
     "execution_count": 3,
     "metadata": {},
     "output_type": "execute_result"
    }
   ],
   "source": [
    "df = pd.read_excel(r\"data\\2019_MTur_Categorization.xlsx\", header = 3)\n",
    "\n",
    "df.head()"
   ]
  },
  {
   "cell_type": "code",
   "execution_count": 4,
   "id": "d137b4e2",
   "metadata": {},
   "outputs": [],
   "source": [
    "#renaming columns to english\n",
    "df.rename({'UF': 'State', \n",
    "           'Município': 'City', \n",
    "           'Região Turística': 'Tourist Region', \n",
    "           'Domésticos': 'Domestic Tourists', \n",
    "           'Internacionais': 'International Tourists',\n",
    "           'Estabelecimentos': 'Establishments', #Quantity of establishments related to tourism\n",
    "           'Empregos':'Jobs', #Quantity of jobs related to tourism\n",
    "           'Arrecadação de Impostos': 'Tax Revenue', \n",
    "           'Categoria':'Category',\n",
    "           'Código Município':'City Code'}, axis='columns', inplace=True)"
   ]
  },
  {
   "cell_type": "code",
   "execution_count": 5,
   "metadata": {},
   "outputs": [
    {
     "name": "stdout",
     "output_type": "stream",
     "text": [
      "<class 'pandas.core.frame.DataFrame'>\n",
      "RangeIndex: 2621 entries, 0 to 2620\n",
      "Data columns (total 10 columns):\n",
      " #   Column                  Non-Null Count  Dtype  \n",
      "---  ------                  --------------  -----  \n",
      " 0   State                   2621 non-null   object \n",
      " 1   City                    2621 non-null   object \n",
      " 2   Tourist Region          2621 non-null   object \n",
      " 3   Domestic Tourists       2621 non-null   int64  \n",
      " 4   International Tourists  2621 non-null   int64  \n",
      " 5   Establishments          2621 non-null   int64  \n",
      " 6   Jobs                    2621 non-null   int64  \n",
      " 7   Tax Revenue             2621 non-null   int64  \n",
      " 8   Category                2621 non-null   object \n",
      " 9   City Code               2619 non-null   float64\n",
      "dtypes: float64(1), int64(5), object(4)\n",
      "memory usage: 204.9+ KB\n"
     ]
    }
   ],
   "source": [
    "#showcasing data types and non-null cells in each column\n",
    "df.info()"
   ]
  },
  {
   "cell_type": "markdown",
   "id": "2baaf0ea",
   "metadata": {},
   "source": [
    "All cells have information in them, there isn't a single null object in this dataset. With the information that we have so far, no conclusion can be made, but this description can be further explored in other data."
   ]
  },
  {
   "cell_type": "markdown",
   "metadata": {},
   "source": [
    "### 1. Distribution of Turistic States"
   ]
  },
  {
   "cell_type": "code",
   "execution_count": 6,
   "metadata": {},
   "outputs": [
    {
     "data": {
      "text/html": [
       "<div>\n",
       "<style scoped>\n",
       "    .dataframe tbody tr th:only-of-type {\n",
       "        vertical-align: middle;\n",
       "    }\n",
       "\n",
       "    .dataframe tbody tr th {\n",
       "        vertical-align: top;\n",
       "    }\n",
       "\n",
       "    .dataframe thead th {\n",
       "        text-align: right;\n",
       "    }\n",
       "</style>\n",
       "<table border=\"1\" class=\"dataframe\">\n",
       "  <thead>\n",
       "    <tr style=\"text-align: right;\">\n",
       "      <th></th>\n",
       "      <th>State</th>\n",
       "      <th>City</th>\n",
       "      <th>% City per total Tourism Map</th>\n",
       "    </tr>\n",
       "  </thead>\n",
       "  <tbody>\n",
       "    <tr>\n",
       "      <th>0</th>\n",
       "      <td>MG</td>\n",
       "      <td>587</td>\n",
       "      <td>22.4</td>\n",
       "    </tr>\n",
       "    <tr>\n",
       "      <th>1</th>\n",
       "      <td>RS</td>\n",
       "      <td>385</td>\n",
       "      <td>14.7</td>\n",
       "    </tr>\n",
       "    <tr>\n",
       "      <th>2</th>\n",
       "      <td>SP</td>\n",
       "      <td>290</td>\n",
       "      <td>11.1</td>\n",
       "    </tr>\n",
       "    <tr>\n",
       "      <th>3</th>\n",
       "      <td>PR</td>\n",
       "      <td>175</td>\n",
       "      <td>6.7</td>\n",
       "    </tr>\n",
       "    <tr>\n",
       "      <th>4</th>\n",
       "      <td>SC</td>\n",
       "      <td>136</td>\n",
       "      <td>5.2</td>\n",
       "    </tr>\n",
       "  </tbody>\n",
       "</table>\n",
       "</div>"
      ],
      "text/plain": [
       "  State  City  % City per total Tourism Map\n",
       "0    MG   587                          22.4\n",
       "1    RS   385                          14.7\n",
       "2    SP   290                          11.1\n",
       "3    PR   175                           6.7\n",
       "4    SC   136                           5.2"
      ]
     },
     "execution_count": 6,
     "metadata": {},
     "output_type": "execute_result"
    }
   ],
   "source": [
    "#distribution of uf (States) in the 2019 dataset\n",
    "\n",
    "#creating the pivot_table in which the pie chart will be based on\n",
    "df_count_state = pd.pivot_table(data = df,\n",
    "                             values = 'City',\n",
    "                             index = 'State',\n",
    "                             aggfunc='count').sort_values(by='City',ascending=False).reset_index()\n",
    "\n",
    "df_count_state['% City per total Tourism Map'] = round((df_count_state['City']/df_count_state['City'].sum())*100,1)\n",
    "\n",
    "df_count_state.head()"
   ]
  },
  {
   "cell_type": "code",
   "execution_count": 7,
   "metadata": {},
   "outputs": [
    {
     "data": {
      "text/plain": [
       "Index(['Cod_UF', 'Nome_UF', 'Região Geográfica Intermediária',\n",
       "       'Nome Região Geográfica Intermediária', 'Região Geográfica Imediata',\n",
       "       'Nome Região Geográfica Imediata', 'Mesorregião Geográfica',\n",
       "       'Nome_Mesorregião', 'Microrregião Geográfica', 'Nome_Microrregião',\n",
       "       'Município', 'Código Município Completo', 'MUNICIPIO', 'UF'],\n",
       "      dtype='object')"
      ]
     },
     "execution_count": 7,
     "metadata": {},
     "output_type": "execute_result"
    }
   ],
   "source": [
    "# comparing the distribution in the categorized dataset to that of all brazilian cities\n",
    "\n",
    "df_city_br = pd.read_excel(r\"data\\BR_code_cities_states.xls\", header = 6)\n",
    "\n",
    "df_city_br.columns"
   ]
  },
  {
   "cell_type": "code",
   "execution_count": 8,
   "id": "3df67c7f",
   "metadata": {},
   "outputs": [
    {
     "data": {
      "text/html": [
       "<div>\n",
       "<style scoped>\n",
       "    .dataframe tbody tr th:only-of-type {\n",
       "        vertical-align: middle;\n",
       "    }\n",
       "\n",
       "    .dataframe tbody tr th {\n",
       "        vertical-align: top;\n",
       "    }\n",
       "\n",
       "    .dataframe thead th {\n",
       "        text-align: right;\n",
       "    }\n",
       "</style>\n",
       "<table border=\"1\" class=\"dataframe\">\n",
       "  <thead>\n",
       "    <tr style=\"text-align: right;\">\n",
       "      <th></th>\n",
       "      <th>State</th>\n",
       "      <th>City</th>\n",
       "      <th>% City per total in Brazil</th>\n",
       "    </tr>\n",
       "  </thead>\n",
       "  <tbody>\n",
       "    <tr>\n",
       "      <th>0</th>\n",
       "      <td>MG</td>\n",
       "      <td>853</td>\n",
       "      <td>15.3</td>\n",
       "    </tr>\n",
       "    <tr>\n",
       "      <th>1</th>\n",
       "      <td>SP</td>\n",
       "      <td>645</td>\n",
       "      <td>11.6</td>\n",
       "    </tr>\n",
       "    <tr>\n",
       "      <th>2</th>\n",
       "      <td>RS</td>\n",
       "      <td>497</td>\n",
       "      <td>8.9</td>\n",
       "    </tr>\n",
       "    <tr>\n",
       "      <th>3</th>\n",
       "      <td>BA</td>\n",
       "      <td>417</td>\n",
       "      <td>7.5</td>\n",
       "    </tr>\n",
       "    <tr>\n",
       "      <th>4</th>\n",
       "      <td>PR</td>\n",
       "      <td>399</td>\n",
       "      <td>7.2</td>\n",
       "    </tr>\n",
       "  </tbody>\n",
       "</table>\n",
       "</div>"
      ],
      "text/plain": [
       "  State  City  % City per total in Brazil\n",
       "0    MG   853                        15.3\n",
       "1    SP   645                        11.6\n",
       "2    RS   497                         8.9\n",
       "3    BA   417                         7.5\n",
       "4    PR   399                         7.2"
      ]
     },
     "execution_count": 8,
     "metadata": {},
     "output_type": "execute_result"
    }
   ],
   "source": [
    "# making a pivot table of the total cities in Brazil \n",
    "#in order to compare the distribution of the total turist cities \n",
    "\n",
    "#first, renaming the columns that will be used\n",
    "\n",
    "df_city_br.rename({'UF': 'State', \n",
    "                  'MUNICIPIO': 'City'}, axis='columns', inplace=True)\n",
    "\n",
    "df_city_br_total = pd.pivot_table(data = df_city_br,\n",
    "                             values = 'City',\n",
    "                             index = 'State',\n",
    "                             aggfunc='count').sort_values(by='City',ascending=False).reset_index()\n",
    "\n",
    "df_city_br_total['% City per total in Brazil'] = round((df_city_br_total['City']/df_city_br_total['City'].sum())*100,1)\n",
    "\n",
    "df_city_br_total.head()"
   ]
  },
  {
   "cell_type": "code",
   "execution_count": 9,
   "id": "892add25",
   "metadata": {},
   "outputs": [
    {
     "data": {
      "text/html": [
       "<div>\n",
       "<style scoped>\n",
       "    .dataframe tbody tr th:only-of-type {\n",
       "        vertical-align: middle;\n",
       "    }\n",
       "\n",
       "    .dataframe tbody tr th {\n",
       "        vertical-align: top;\n",
       "    }\n",
       "\n",
       "    .dataframe thead th {\n",
       "        text-align: right;\n",
       "    }\n",
       "</style>\n",
       "<table border=\"1\" class=\"dataframe\">\n",
       "  <thead>\n",
       "    <tr style=\"text-align: right;\">\n",
       "      <th></th>\n",
       "      <th>State</th>\n",
       "      <th>Proportion</th>\n",
       "      <th>% Percentage</th>\n",
       "    </tr>\n",
       "  </thead>\n",
       "  <tbody>\n",
       "    <tr>\n",
       "      <th>0</th>\n",
       "      <td>MG</td>\n",
       "      <td>% City per total Tourism Map</td>\n",
       "      <td>22.4</td>\n",
       "    </tr>\n",
       "    <tr>\n",
       "      <th>1</th>\n",
       "      <td>RS</td>\n",
       "      <td>% City per total Tourism Map</td>\n",
       "      <td>14.7</td>\n",
       "    </tr>\n",
       "    <tr>\n",
       "      <th>2</th>\n",
       "      <td>SP</td>\n",
       "      <td>% City per total Tourism Map</td>\n",
       "      <td>11.1</td>\n",
       "    </tr>\n",
       "    <tr>\n",
       "      <th>3</th>\n",
       "      <td>PR</td>\n",
       "      <td>% City per total Tourism Map</td>\n",
       "      <td>6.7</td>\n",
       "    </tr>\n",
       "    <tr>\n",
       "      <th>4</th>\n",
       "      <td>SC</td>\n",
       "      <td>% City per total Tourism Map</td>\n",
       "      <td>5.2</td>\n",
       "    </tr>\n",
       "  </tbody>\n",
       "</table>\n",
       "</div>"
      ],
      "text/plain": [
       "  State                    Proportion  % Percentage\n",
       "0    MG  % City per total Tourism Map          22.4\n",
       "1    RS  % City per total Tourism Map          14.7\n",
       "2    SP  % City per total Tourism Map          11.1\n",
       "3    PR  % City per total Tourism Map           6.7\n",
       "4    SC  % City per total Tourism Map           5.2"
      ]
     },
     "execution_count": 9,
     "metadata": {},
     "output_type": "execute_result"
    }
   ],
   "source": [
    "#merging the first pivot table and the total\n",
    "df_compare = pd.merge(df_count_state[['State','% City per total Tourism Map']],\n",
    "                     df_city_br_total[['State','% City per total in Brazil']], \n",
    "                     how = \"outer\", \n",
    "                     on='State')\n",
    "\n",
    "df_compare = df_compare.melt(id_vars='State',value_name='% Percentage',var_name = 'Proportion').rename(columns=str.title)\n",
    "\n",
    "df_compare.head()"
   ]
  },
  {
   "cell_type": "code",
   "execution_count": 33,
   "id": "cb34ac0f",
   "metadata": {},
   "outputs": [
    {
     "data": {
      "image/png": "[encoded data removed]",
      "text/plain": [
       "<Figure size 1500x600 with 1 Axes>"
      ]
     },
     "metadata": {},
     "output_type": "display_data"
    }
   ],
   "source": [
    "plt.figure(figsize=(15,6))\n",
    "fig_states = sns.barplot(\n",
    "            data=df_compare, \n",
    "            x=\"State\", \n",
    "            y=\"% Percentage\", \n",
    "            hue=\"Proportion\"\n",
    ")\n",
    "\n",
    "fig_states.set_title(\"Comparing Tursitic Cities distribution to all Brazilian cities\")\n",
    "fig_states.margins(y=0.1) # make room for the labels\n",
    "for bars in fig_states.containers:\n",
    "   fig_states.bar_label(bars, fmt='%.1f')"
   ]
  },
  {
   "cell_type": "markdown",
   "metadata": {},
   "source": [
    "Generally, <b> the distribution accompanies the general distribution of cities in Brazil as a whole</b>. Some notable exceptions are: RS (Rio Grande do Sul), BA (Bahia) and PI (Piauí). Therefore, we can conclude that there is not a significant misrepresentation of each reagion, even though the database is imbalanced."
   ]
  },
  {
   "cell_type": "markdown",
   "metadata": {},
   "source": [
    "### 2. Quantitative Measures"
   ]
  },
  {
   "cell_type": "code",
   "execution_count": 11,
   "metadata": {},
   "outputs": [
    {
     "data": {
      "text/html": [
       "<div>\n",
       "<style scoped>\n",
       "    .dataframe tbody tr th:only-of-type {\n",
       "        vertical-align: middle;\n",
       "    }\n",
       "\n",
       "    .dataframe tbody tr th {\n",
       "        vertical-align: top;\n",
       "    }\n",
       "\n",
       "    .dataframe thead th {\n",
       "        text-align: right;\n",
       "    }\n",
       "</style>\n",
       "<table border=\"1\" class=\"dataframe\">\n",
       "  <thead>\n",
       "    <tr style=\"text-align: right;\">\n",
       "      <th></th>\n",
       "      <th>Domestic Tourists</th>\n",
       "      <th>International Tourists</th>\n",
       "      <th>Establishments</th>\n",
       "      <th>Jobs</th>\n",
       "      <th>Tax Revenue</th>\n",
       "      <th>City Code</th>\n",
       "    </tr>\n",
       "  </thead>\n",
       "  <tbody>\n",
       "    <tr>\n",
       "      <th>count</th>\n",
       "      <td>2.621000e+03</td>\n",
       "      <td>2.621000e+03</td>\n",
       "      <td>2621.000000</td>\n",
       "      <td>2621.000000</td>\n",
       "      <td>2.621000e+03</td>\n",
       "      <td>2.619000e+03</td>\n",
       "    </tr>\n",
       "    <tr>\n",
       "      <th>mean</th>\n",
       "      <td>3.011899e+03</td>\n",
       "      <td>5.534732e+04</td>\n",
       "      <td>6.697062</td>\n",
       "      <td>82.580313</td>\n",
       "      <td>9.952682e+05</td>\n",
       "      <td>3.377033e+06</td>\n",
       "    </tr>\n",
       "    <tr>\n",
       "      <th>std</th>\n",
       "      <td>3.748660e+04</td>\n",
       "      <td>2.913402e+05</td>\n",
       "      <td>20.912444</td>\n",
       "      <td>487.521166</td>\n",
       "      <td>9.461004e+06</td>\n",
       "      <td>9.039361e+05</td>\n",
       "    </tr>\n",
       "    <tr>\n",
       "      <th>min</th>\n",
       "      <td>0.000000e+00</td>\n",
       "      <td>0.000000e+00</td>\n",
       "      <td>0.000000</td>\n",
       "      <td>0.000000</td>\n",
       "      <td>0.000000e+00</td>\n",
       "      <td>1.100023e+06</td>\n",
       "    </tr>\n",
       "    <tr>\n",
       "      <th>25%</th>\n",
       "      <td>0.000000e+00</td>\n",
       "      <td>0.000000e+00</td>\n",
       "      <td>0.000000</td>\n",
       "      <td>0.000000</td>\n",
       "      <td>0.000000e+00</td>\n",
       "      <td>2.908403e+06</td>\n",
       "    </tr>\n",
       "    <tr>\n",
       "      <th>50%</th>\n",
       "      <td>0.000000e+00</td>\n",
       "      <td>4.227000e+03</td>\n",
       "      <td>2.000000</td>\n",
       "      <td>5.000000</td>\n",
       "      <td>0.000000e+00</td>\n",
       "      <td>3.170479e+06</td>\n",
       "    </tr>\n",
       "    <tr>\n",
       "      <th>75%</th>\n",
       "      <td>3.120000e+02</td>\n",
       "      <td>2.448600e+04</td>\n",
       "      <td>5.000000</td>\n",
       "      <td>30.000000</td>\n",
       "      <td>0.000000e+00</td>\n",
       "      <td>4.205382e+06</td>\n",
       "    </tr>\n",
       "    <tr>\n",
       "      <th>max</th>\n",
       "      <td>1.651696e+06</td>\n",
       "      <td>7.119416e+06</td>\n",
       "      <td>431.000000</td>\n",
       "      <td>17946.000000</td>\n",
       "      <td>4.021993e+08</td>\n",
       "      <td>5.300108e+06</td>\n",
       "    </tr>\n",
       "  </tbody>\n",
       "</table>\n",
       "</div>"
      ],
      "text/plain": [
       "       Domestic Tourists  International Tourists  Establishments  \\\n",
       "count       2.621000e+03            2.621000e+03     2621.000000   \n",
       "mean        3.011899e+03            5.534732e+04        6.697062   \n",
       "std         3.748660e+04            2.913402e+05       20.912444   \n",
       "min         0.000000e+00            0.000000e+00        0.000000   \n",
       "25%         0.000000e+00            0.000000e+00        0.000000   \n",
       "50%         0.000000e+00            4.227000e+03        2.000000   \n",
       "75%         3.120000e+02            2.448600e+04        5.000000   \n",
       "max         1.651696e+06            7.119416e+06      431.000000   \n",
       "\n",
       "               Jobs   Tax Revenue     City Code  \n",
       "count   2621.000000  2.621000e+03  2.619000e+03  \n",
       "mean      82.580313  9.952682e+05  3.377033e+06  \n",
       "std      487.521166  9.461004e+06  9.039361e+05  \n",
       "min        0.000000  0.000000e+00  1.100023e+06  \n",
       "25%        0.000000  0.000000e+00  2.908403e+06  \n",
       "50%        5.000000  0.000000e+00  3.170479e+06  \n",
       "75%       30.000000  0.000000e+00  4.205382e+06  \n",
       "max    17946.000000  4.021993e+08  5.300108e+06  "
      ]
     },
     "execution_count": 11,
     "metadata": {},
     "output_type": "execute_result"
    }
   ],
   "source": [
    "#seeing most numbers\n",
    "df.describe()"
   ]
  },
  {
   "cell_type": "markdown",
   "metadata": {},
   "source": [
    "Looking at the numbers above, there are noteworthy trends that need to be discussed:\n",
    "1) <b> ZEROS:</b> On most columns, the lower quartile is 0, what shows that a good chunk of the data is 0. To understand the distribution of these columns, let's create a histogram and a boxplot. This will reveal potential outliers, skew, and normality, which are crucial for further analysis. This information, accompanied to the fact that there isn't a single null in this dataset, turns us to the hypothesis that missing values were replaced with zeros. <br>\n",
    "<br>\n",
    "2) <b> MEAN versus MEDIAN:</b> A common way to infer the distribution of data is looking through the difference between the values of mean and median. In this dataset, there is a significant distance between both metrics, signalizing that there many outliers and internal groups that can be categorized. Therefore, it is important to analyze how the categories (column \"Category\") differ in each metric. <br>"
   ]
  },
  {
   "cell_type": "markdown",
   "id": "6bbec8f1",
   "metadata": {},
   "source": [
    "#### 2.1 Zeros"
   ]
  },
  {
   "cell_type": "code",
   "execution_count": 38,
   "id": "108fc834",
   "metadata": {},
   "outputs": [
    {
     "data": {
      "text/plain": [
       "[Text(0.5, 1.0, 'Establishments distribution in the database')]"
      ]
     },
     "execution_count": 38,
     "metadata": {},
     "output_type": "execute_result"
    },
    {
     "data": {
      "image/png": "[encoded data removed]",
      "text/plain": [
       "<Figure size 640x480 with 1 Axes>"
      ]
     },
     "metadata": {},
     "output_type": "display_data"
    }
   ],
   "source": [
    "sns.histplot(data = df, \n",
    "             x='Establishments').set(title = \"Establishments distribution in the database\")"
   ]
  },
  {
   "cell_type": "markdown",
   "id": "38cf7e29",
   "metadata": {},
   "source": [
    "Analyzing the histogram above, there are a large number of variables with the number zero. Therefore, this must mean that what would be null/empty was replaced by 0. In order to make the analysis more accurate and clean the database, it is convenient to remove all quantitative columns with only number 0."
   ]
  },
  {
   "cell_type": "code",
   "execution_count": 13,
   "id": "c3306b59",
   "metadata": {},
   "outputs": [
    {
     "data": {
      "text/html": [
       "<div>\n",
       "<style scoped>\n",
       "    .dataframe tbody tr th:only-of-type {\n",
       "        vertical-align: middle;\n",
       "    }\n",
       "\n",
       "    .dataframe tbody tr th {\n",
       "        vertical-align: top;\n",
       "    }\n",
       "\n",
       "    .dataframe thead th {\n",
       "        text-align: right;\n",
       "    }\n",
       "</style>\n",
       "<table border=\"1\" class=\"dataframe\">\n",
       "  <thead>\n",
       "    <tr style=\"text-align: right;\">\n",
       "      <th></th>\n",
       "      <th>State</th>\n",
       "      <th>City</th>\n",
       "      <th>Tourist Region</th>\n",
       "      <th>Domestic Tourists</th>\n",
       "      <th>International Tourists</th>\n",
       "      <th>Establishments</th>\n",
       "      <th>Jobs</th>\n",
       "      <th>Tax Revenue</th>\n",
       "      <th>Category</th>\n",
       "      <th>City Code</th>\n",
       "    </tr>\n",
       "  </thead>\n",
       "  <tbody>\n",
       "    <tr>\n",
       "      <th>3</th>\n",
       "      <td>SC</td>\n",
       "      <td>Abdon Batista</td>\n",
       "      <td>Vale dos Imigrantes</td>\n",
       "      <td>0</td>\n",
       "      <td>0</td>\n",
       "      <td>0</td>\n",
       "      <td>0</td>\n",
       "      <td>0</td>\n",
       "      <td>E</td>\n",
       "      <td>4200051.0</td>\n",
       "    </tr>\n",
       "    <tr>\n",
       "      <th>6</th>\n",
       "      <td>MG</td>\n",
       "      <td>Acaiaca</td>\n",
       "      <td>Serras de Minas</td>\n",
       "      <td>0</td>\n",
       "      <td>0</td>\n",
       "      <td>0</td>\n",
       "      <td>0</td>\n",
       "      <td>0</td>\n",
       "      <td>E</td>\n",
       "      <td>3100401.0</td>\n",
       "    </tr>\n",
       "    <tr>\n",
       "      <th>10</th>\n",
       "      <td>PI</td>\n",
       "      <td>Acauã</td>\n",
       "      <td>Polo Histórico Cultural</td>\n",
       "      <td>0</td>\n",
       "      <td>0</td>\n",
       "      <td>0</td>\n",
       "      <td>0</td>\n",
       "      <td>0</td>\n",
       "      <td>E</td>\n",
       "      <td>2200053.0</td>\n",
       "    </tr>\n",
       "    <tr>\n",
       "      <th>19</th>\n",
       "      <td>SC</td>\n",
       "      <td>Agrolândia</td>\n",
       "      <td>Caminhos do Alto Vale</td>\n",
       "      <td>0</td>\n",
       "      <td>0</td>\n",
       "      <td>0</td>\n",
       "      <td>0</td>\n",
       "      <td>0</td>\n",
       "      <td>D</td>\n",
       "      <td>4200200.0</td>\n",
       "    </tr>\n",
       "    <tr>\n",
       "      <th>20</th>\n",
       "      <td>SC</td>\n",
       "      <td>Agronômica</td>\n",
       "      <td>Caminhos do Alto Vale</td>\n",
       "      <td>0</td>\n",
       "      <td>0</td>\n",
       "      <td>0</td>\n",
       "      <td>0</td>\n",
       "      <td>0</td>\n",
       "      <td>E</td>\n",
       "      <td>4200309.0</td>\n",
       "    </tr>\n",
       "  </tbody>\n",
       "</table>\n",
       "</div>"
      ],
      "text/plain": [
       "   State           City           Tourist Region  Domestic Tourists  \\\n",
       "3     SC  Abdon Batista      Vale dos Imigrantes                  0   \n",
       "6     MG        Acaiaca          Serras de Minas                  0   \n",
       "10    PI          Acauã  Polo Histórico Cultural                  0   \n",
       "19    SC     Agrolândia    Caminhos do Alto Vale                  0   \n",
       "20    SC     Agronômica    Caminhos do Alto Vale                  0   \n",
       "\n",
       "    International Tourists  Establishments  Jobs  Tax Revenue Category  \\\n",
       "3                        0               0     0            0        E   \n",
       "6                        0               0     0            0        E   \n",
       "10                       0               0     0            0        E   \n",
       "19                       0               0     0            0        D   \n",
       "20                       0               0     0            0        E   \n",
       "\n",
       "    City Code  \n",
       "3   4200051.0  \n",
       "6   3100401.0  \n",
       "10  2200053.0  \n",
       "19  4200200.0  \n",
       "20  4200309.0  "
      ]
     },
     "execution_count": 13,
     "metadata": {},
     "output_type": "execute_result"
    }
   ],
   "source": [
    "df0 = df.loc[(df[['Jobs',\n",
    "           'Establishments',\n",
    "           'Domestic Tourists', \n",
    "           'International Tourists']] == 0).all(axis=1)]\n",
    "\n",
    "df0.head()"
   ]
  },
  {
   "cell_type": "markdown",
   "id": "a08239ef",
   "metadata": {},
   "source": [
    "Before proceeding with further analysis, let's explore this dataset to understand the variables that would be removed"
   ]
  },
  {
   "cell_type": "code",
   "execution_count": 14,
   "metadata": {},
   "outputs": [
    {
     "data": {
      "text/html": [
       "<div>\n",
       "<style scoped>\n",
       "    .dataframe tbody tr th:only-of-type {\n",
       "        vertical-align: middle;\n",
       "    }\n",
       "\n",
       "    .dataframe tbody tr th {\n",
       "        vertical-align: top;\n",
       "    }\n",
       "\n",
       "    .dataframe thead th {\n",
       "        text-align: right;\n",
       "    }\n",
       "</style>\n",
       "<table border=\"1\" class=\"dataframe\">\n",
       "  <thead>\n",
       "    <tr style=\"text-align: right;\">\n",
       "      <th></th>\n",
       "      <th>Category</th>\n",
       "      <th>City</th>\n",
       "    </tr>\n",
       "  </thead>\n",
       "  <tbody>\n",
       "    <tr>\n",
       "      <th>0</th>\n",
       "      <td>E</td>\n",
       "      <td>426</td>\n",
       "    </tr>\n",
       "    <tr>\n",
       "      <th>1</th>\n",
       "      <td>D</td>\n",
       "      <td>78</td>\n",
       "    </tr>\n",
       "  </tbody>\n",
       "</table>\n",
       "</div>"
      ],
      "text/plain": [
       "  Category  City\n",
       "0        E   426\n",
       "1        D    78"
      ]
     },
     "execution_count": 14,
     "metadata": {},
     "output_type": "execute_result"
    }
   ],
   "source": [
    "#dividing by categories \n",
    "pd.pivot_table(data = df0,\n",
    "               values = 'City',\n",
    "               index = 'Category',\n",
    "               aggfunc='count').sort_values(by='Category',ascending=False).reset_index()"
   ]
  },
  {
   "cell_type": "code",
   "execution_count": 15,
   "id": "3b9b71fc",
   "metadata": {},
   "outputs": [
    {
     "data": {
      "text/plain": [
       "0.192293017932087"
      ]
     },
     "execution_count": 15,
     "metadata": {},
     "output_type": "execute_result"
    }
   ],
   "source": [
    "#calculating how many rows would be dropped\n",
    "len(df0)/len(df)"
   ]
  },
  {
   "cell_type": "markdown",
   "id": "4529bfc2",
   "metadata": {},
   "source": [
    "Around 19% of the original dataset would be dropped if we were to delete all rows with zeros.Upon further analysis, this pattern persists across all historical datasets, suggesting that these zeros are intentional and hold meaning within the context of the data. It is also worth pointing out that all rows contain cities categorized as D and E, which are expected to have lower values. It requires further analysis to understand how to treat these categories.\n",
    "\n",
    "An important side question that arises from this analysis is: If all rows have the same values in all variables, why some are categorized as D and others E? "
   ]
  },
  {
   "cell_type": "markdown",
   "id": "ee6198a6",
   "metadata": {},
   "source": [
    "#### 2.2 Category Variation"
   ]
  },
  {
   "cell_type": "code",
   "execution_count": 39,
   "id": "1a85d681",
   "metadata": {},
   "outputs": [
    {
     "data": {
      "image/png": "[encoded data removed]",
      "text/plain": [
       "<Figure size 1200x700 with 4 Axes>"
      ]
     },
     "metadata": {},
     "output_type": "display_data"
    }
   ],
   "source": [
    "#creatingg multiple boxplots in order to understand the distribution of zeros in each column\n",
    "fig, ax = plt.subplots(2,2, figsize = (12,7))\n",
    "\n",
    "#selecting columns\n",
    "columns = ['Jobs',\n",
    "           'Establishments',\n",
    "           'Domestic Tourists', \n",
    "           'International Tourists']\n",
    "\n",
    "#making a for loop to create each dataviz \n",
    "col = 0\n",
    "for i in range(2):\n",
    "    for j in range(2):\n",
    "        sns.boxplot(data = df.sort_values(by=['Category']), \n",
    "                    y = columns[col], \n",
    "                    hue=\"Category\", #making the hue by Category\n",
    "                    ax = ax[i,j]) \n",
    "        ax[i,j].set_title(f\"{columns[col]}\")\n",
    "        col+=1\n",
    "plt.tight_layout()\n"
   ]
  },
  {
   "cell_type": "markdown",
   "id": "8173e0c8",
   "metadata": {},
   "source": [
    "análise do boxplot:\n",
    "- Os boxplots são bem condizentes com a categorização, não tem nenhum boxplot que sai do esperado das categorias.\n",
    "- Muitos outliers na categoria A e B\n",
    "- Pouca coisa nas categorias D e E => Explorar mais"
   ]
  },
  {
   "cell_type": "markdown",
   "id": "acead869",
   "metadata": {},
   "source": [
    "#### 2.21 Categories D and E"
   ]
  },
  {
   "cell_type": "code",
   "execution_count": 17,
   "id": "46e3eaad",
   "metadata": {},
   "outputs": [
    {
     "data": {
      "text/html": [
       "<div>\n",
       "<style scoped>\n",
       "    .dataframe tbody tr th:only-of-type {\n",
       "        vertical-align: middle;\n",
       "    }\n",
       "\n",
       "    .dataframe tbody tr th {\n",
       "        vertical-align: top;\n",
       "    }\n",
       "\n",
       "    .dataframe thead th {\n",
       "        text-align: right;\n",
       "    }\n",
       "</style>\n",
       "<table border=\"1\" class=\"dataframe\">\n",
       "  <thead>\n",
       "    <tr style=\"text-align: right;\">\n",
       "      <th></th>\n",
       "      <th>State</th>\n",
       "      <th>City</th>\n",
       "      <th>Tourist Region</th>\n",
       "      <th>Domestic Tourists</th>\n",
       "      <th>International Tourists</th>\n",
       "      <th>Establishments</th>\n",
       "      <th>Jobs</th>\n",
       "      <th>Tax Revenue</th>\n",
       "      <th>Category</th>\n",
       "      <th>City Code</th>\n",
       "    </tr>\n",
       "  </thead>\n",
       "  <tbody>\n",
       "    <tr>\n",
       "      <th>0</th>\n",
       "      <td>MG</td>\n",
       "      <td>Abaeté</td>\n",
       "      <td>Lago de Três Marias</td>\n",
       "      <td>245</td>\n",
       "      <td>8415</td>\n",
       "      <td>3</td>\n",
       "      <td>16</td>\n",
       "      <td>0</td>\n",
       "      <td>D</td>\n",
       "      <td>3100203.0</td>\n",
       "    </tr>\n",
       "    <tr>\n",
       "      <th>1</th>\n",
       "      <td>PA</td>\n",
       "      <td>Abaetetuba</td>\n",
       "      <td>Região Turística do Tocantins</td>\n",
       "      <td>181</td>\n",
       "      <td>29939</td>\n",
       "      <td>5</td>\n",
       "      <td>12</td>\n",
       "      <td>0</td>\n",
       "      <td>D</td>\n",
       "      <td>1500107.0</td>\n",
       "    </tr>\n",
       "    <tr>\n",
       "      <th>2</th>\n",
       "      <td>BA</td>\n",
       "      <td>Abaíra</td>\n",
       "      <td>Chapada Diamantina</td>\n",
       "      <td>0</td>\n",
       "      <td>0</td>\n",
       "      <td>2</td>\n",
       "      <td>5</td>\n",
       "      <td>0</td>\n",
       "      <td>D</td>\n",
       "      <td>2900108.0</td>\n",
       "    </tr>\n",
       "    <tr>\n",
       "      <th>3</th>\n",
       "      <td>SC</td>\n",
       "      <td>Abdon Batista</td>\n",
       "      <td>Vale dos Imigrantes</td>\n",
       "      <td>0</td>\n",
       "      <td>0</td>\n",
       "      <td>0</td>\n",
       "      <td>0</td>\n",
       "      <td>0</td>\n",
       "      <td>E</td>\n",
       "      <td>4200051.0</td>\n",
       "    </tr>\n",
       "    <tr>\n",
       "      <th>4</th>\n",
       "      <td>SC</td>\n",
       "      <td>Abelardo Luz</td>\n",
       "      <td>Grande Oeste</td>\n",
       "      <td>0</td>\n",
       "      <td>10515</td>\n",
       "      <td>4</td>\n",
       "      <td>14</td>\n",
       "      <td>0</td>\n",
       "      <td>D</td>\n",
       "      <td>4200101.0</td>\n",
       "    </tr>\n",
       "  </tbody>\n",
       "</table>\n",
       "</div>"
      ],
      "text/plain": [
       "  State           City                 Tourist Region  Domestic Tourists  \\\n",
       "0    MG         Abaeté            Lago de Três Marias                245   \n",
       "1    PA     Abaetetuba  Região Turística do Tocantins                181   \n",
       "2    BA         Abaíra             Chapada Diamantina                  0   \n",
       "3    SC  Abdon Batista            Vale dos Imigrantes                  0   \n",
       "4    SC   Abelardo Luz                   Grande Oeste                  0   \n",
       "\n",
       "   International Tourists  Establishments  Jobs  Tax Revenue Category  \\\n",
       "0                    8415               3    16            0        D   \n",
       "1                   29939               5    12            0        D   \n",
       "2                       0               2     5            0        D   \n",
       "3                       0               0     0            0        E   \n",
       "4                   10515               4    14            0        D   \n",
       "\n",
       "   City Code  \n",
       "0  3100203.0  \n",
       "1  1500107.0  \n",
       "2  2900108.0  \n",
       "3  4200051.0  \n",
       "4  4200101.0  "
      ]
     },
     "execution_count": 17,
     "metadata": {},
     "output_type": "execute_result"
    }
   ],
   "source": [
    "#selecting only categories D & E for analysis\n",
    "df_de = df.loc[(df['Category'] == 'D') | (df['Category'] == 'E')]\n",
    "\n",
    "df_de.head()"
   ]
  },
  {
   "cell_type": "code",
   "execution_count": 18,
   "id": "2f82689e",
   "metadata": {},
   "outputs": [
    {
     "data": {
      "text/html": [
       "<div>\n",
       "<style scoped>\n",
       "    .dataframe tbody tr th:only-of-type {\n",
       "        vertical-align: middle;\n",
       "    }\n",
       "\n",
       "    .dataframe tbody tr th {\n",
       "        vertical-align: top;\n",
       "    }\n",
       "\n",
       "    .dataframe thead th {\n",
       "        text-align: right;\n",
       "    }\n",
       "</style>\n",
       "<table border=\"1\" class=\"dataframe\">\n",
       "  <thead>\n",
       "    <tr style=\"text-align: right;\">\n",
       "      <th></th>\n",
       "      <th>Domestic Tourists</th>\n",
       "      <th>International Tourists</th>\n",
       "      <th>Establishments</th>\n",
       "      <th>Jobs</th>\n",
       "      <th>Tax Revenue</th>\n",
       "      <th>City Code</th>\n",
       "    </tr>\n",
       "  </thead>\n",
       "  <tbody>\n",
       "    <tr>\n",
       "      <th>count</th>\n",
       "      <td>1498.000000</td>\n",
       "      <td>1498.000000</td>\n",
       "      <td>1498.000000</td>\n",
       "      <td>1498.000000</td>\n",
       "      <td>1498.000000</td>\n",
       "      <td>1.496000e+03</td>\n",
       "    </tr>\n",
       "    <tr>\n",
       "      <th>mean</th>\n",
       "      <td>144.138184</td>\n",
       "      <td>6885.518692</td>\n",
       "      <td>1.558745</td>\n",
       "      <td>7.668892</td>\n",
       "      <td>2748.592790</td>\n",
       "      <td>3.376684e+06</td>\n",
       "    </tr>\n",
       "    <tr>\n",
       "      <th>std</th>\n",
       "      <td>430.753717</td>\n",
       "      <td>9367.422890</td>\n",
       "      <td>1.480519</td>\n",
       "      <td>11.460477</td>\n",
       "      <td>36274.005348</td>\n",
       "      <td>8.955443e+05</td>\n",
       "    </tr>\n",
       "    <tr>\n",
       "      <th>min</th>\n",
       "      <td>0.000000</td>\n",
       "      <td>0.000000</td>\n",
       "      <td>0.000000</td>\n",
       "      <td>0.000000</td>\n",
       "      <td>0.000000</td>\n",
       "      <td>1.100031e+06</td>\n",
       "    </tr>\n",
       "    <tr>\n",
       "      <th>25%</th>\n",
       "      <td>0.000000</td>\n",
       "      <td>0.000000</td>\n",
       "      <td>0.000000</td>\n",
       "      <td>0.000000</td>\n",
       "      <td>0.000000</td>\n",
       "      <td>2.909806e+06</td>\n",
       "    </tr>\n",
       "    <tr>\n",
       "      <th>50%</th>\n",
       "      <td>0.000000</td>\n",
       "      <td>2591.000000</td>\n",
       "      <td>1.000000</td>\n",
       "      <td>3.000000</td>\n",
       "      <td>0.000000</td>\n",
       "      <td>3.165454e+06</td>\n",
       "    </tr>\n",
       "    <tr>\n",
       "      <th>75%</th>\n",
       "      <td>142.250000</td>\n",
       "      <td>10601.000000</td>\n",
       "      <td>2.000000</td>\n",
       "      <td>10.000000</td>\n",
       "      <td>0.000000</td>\n",
       "      <td>4.201752e+06</td>\n",
       "    </tr>\n",
       "    <tr>\n",
       "      <th>max</th>\n",
       "      <td>9305.000000</td>\n",
       "      <td>48799.000000</td>\n",
       "      <td>6.000000</td>\n",
       "      <td>92.000000</td>\n",
       "      <td>641273.000000</td>\n",
       "      <td>5.222005e+06</td>\n",
       "    </tr>\n",
       "  </tbody>\n",
       "</table>\n",
       "</div>"
      ],
      "text/plain": [
       "       Domestic Tourists  International Tourists  Establishments         Jobs  \\\n",
       "count        1498.000000             1498.000000     1498.000000  1498.000000   \n",
       "mean          144.138184             6885.518692        1.558745     7.668892   \n",
       "std           430.753717             9367.422890        1.480519    11.460477   \n",
       "min             0.000000                0.000000        0.000000     0.000000   \n",
       "25%             0.000000                0.000000        0.000000     0.000000   \n",
       "50%             0.000000             2591.000000        1.000000     3.000000   \n",
       "75%           142.250000            10601.000000        2.000000    10.000000   \n",
       "max          9305.000000            48799.000000        6.000000    92.000000   \n",
       "\n",
       "         Tax Revenue     City Code  \n",
       "count    1498.000000  1.496000e+03  \n",
       "mean     2748.592790  3.376684e+06  \n",
       "std     36274.005348  8.955443e+05  \n",
       "min         0.000000  1.100031e+06  \n",
       "25%         0.000000  2.909806e+06  \n",
       "50%         0.000000  3.165454e+06  \n",
       "75%         0.000000  4.201752e+06  \n",
       "max    641273.000000  5.222005e+06  "
      ]
     },
     "execution_count": 18,
     "metadata": {},
     "output_type": "execute_result"
    }
   ],
   "source": [
    "df_de[df_de['Category'] == 'D'].describe()"
   ]
  },
  {
   "cell_type": "code",
   "execution_count": 19,
   "id": "c57003dc",
   "metadata": {},
   "outputs": [
    {
     "data": {
      "text/html": [
       "<div>\n",
       "<style scoped>\n",
       "    .dataframe tbody tr th:only-of-type {\n",
       "        vertical-align: middle;\n",
       "    }\n",
       "\n",
       "    .dataframe tbody tr th {\n",
       "        vertical-align: top;\n",
       "    }\n",
       "\n",
       "    .dataframe thead th {\n",
       "        text-align: right;\n",
       "    }\n",
       "</style>\n",
       "<table border=\"1\" class=\"dataframe\">\n",
       "  <thead>\n",
       "    <tr style=\"text-align: right;\">\n",
       "      <th></th>\n",
       "      <th>Domestic Tourists</th>\n",
       "      <th>International Tourists</th>\n",
       "      <th>Establishments</th>\n",
       "      <th>Jobs</th>\n",
       "      <th>Tax Revenue</th>\n",
       "      <th>City Code</th>\n",
       "    </tr>\n",
       "  </thead>\n",
       "  <tbody>\n",
       "    <tr>\n",
       "      <th>count</th>\n",
       "      <td>426.0</td>\n",
       "      <td>426.0</td>\n",
       "      <td>426.0</td>\n",
       "      <td>426.0</td>\n",
       "      <td>426.0</td>\n",
       "      <td>4.260000e+02</td>\n",
       "    </tr>\n",
       "    <tr>\n",
       "      <th>mean</th>\n",
       "      <td>0.0</td>\n",
       "      <td>0.0</td>\n",
       "      <td>0.0</td>\n",
       "      <td>0.0</td>\n",
       "      <td>0.0</td>\n",
       "      <td>3.418241e+06</td>\n",
       "    </tr>\n",
       "    <tr>\n",
       "      <th>std</th>\n",
       "      <td>0.0</td>\n",
       "      <td>0.0</td>\n",
       "      <td>0.0</td>\n",
       "      <td>0.0</td>\n",
       "      <td>0.0</td>\n",
       "      <td>8.235451e+05</td>\n",
       "    </tr>\n",
       "    <tr>\n",
       "      <th>min</th>\n",
       "      <td>0.0</td>\n",
       "      <td>0.0</td>\n",
       "      <td>0.0</td>\n",
       "      <td>0.0</td>\n",
       "      <td>0.0</td>\n",
       "      <td>1.100379e+06</td>\n",
       "    </tr>\n",
       "    <tr>\n",
       "      <th>25%</th>\n",
       "      <td>0.0</td>\n",
       "      <td>0.0</td>\n",
       "      <td>0.0</td>\n",
       "      <td>0.0</td>\n",
       "      <td>0.0</td>\n",
       "      <td>3.101936e+06</td>\n",
       "    </tr>\n",
       "    <tr>\n",
       "      <th>50%</th>\n",
       "      <td>0.0</td>\n",
       "      <td>0.0</td>\n",
       "      <td>0.0</td>\n",
       "      <td>0.0</td>\n",
       "      <td>0.0</td>\n",
       "      <td>3.165569e+06</td>\n",
       "    </tr>\n",
       "    <tr>\n",
       "      <th>75%</th>\n",
       "      <td>0.0</td>\n",
       "      <td>0.0</td>\n",
       "      <td>0.0</td>\n",
       "      <td>0.0</td>\n",
       "      <td>0.0</td>\n",
       "      <td>4.301871e+06</td>\n",
       "    </tr>\n",
       "    <tr>\n",
       "      <th>max</th>\n",
       "      <td>0.0</td>\n",
       "      <td>0.0</td>\n",
       "      <td>0.0</td>\n",
       "      <td>0.0</td>\n",
       "      <td>0.0</td>\n",
       "      <td>5.212303e+06</td>\n",
       "    </tr>\n",
       "  </tbody>\n",
       "</table>\n",
       "</div>"
      ],
      "text/plain": [
       "       Domestic Tourists  International Tourists  Establishments   Jobs  \\\n",
       "count              426.0                   426.0           426.0  426.0   \n",
       "mean                 0.0                     0.0             0.0    0.0   \n",
       "std                  0.0                     0.0             0.0    0.0   \n",
       "min                  0.0                     0.0             0.0    0.0   \n",
       "25%                  0.0                     0.0             0.0    0.0   \n",
       "50%                  0.0                     0.0             0.0    0.0   \n",
       "75%                  0.0                     0.0             0.0    0.0   \n",
       "max                  0.0                     0.0             0.0    0.0   \n",
       "\n",
       "       Tax Revenue     City Code  \n",
       "count        426.0  4.260000e+02  \n",
       "mean           0.0  3.418241e+06  \n",
       "std            0.0  8.235451e+05  \n",
       "min            0.0  1.100379e+06  \n",
       "25%            0.0  3.101936e+06  \n",
       "50%            0.0  3.165569e+06  \n",
       "75%            0.0  4.301871e+06  \n",
       "max            0.0  5.212303e+06  "
      ]
     },
     "execution_count": 19,
     "metadata": {},
     "output_type": "execute_result"
    }
   ],
   "source": [
    "df_de[df_de['Category'] == 'E'].describe()"
   ]
  },
  {
   "cell_type": "code",
   "execution_count": 46,
   "id": "4b4baf7c",
   "metadata": {},
   "outputs": [
    {
     "data": {
      "image/png": "[encoded data removed]",
      "text/plain": [
       "<Figure size 1200x700 with 4 Axes>"
      ]
     },
     "metadata": {},
     "output_type": "display_data"
    }
   ],
   "source": [
    "#creatingg multiple boxplots in order to understand the distribution of zeros in each column\n",
    "fig, ax = plt.subplots(2,2, figsize = (12,7))\n",
    "\n",
    "#selecting columns\n",
    "columns = ['Jobs',\n",
    "           'Establishments',\n",
    "           'Domestic Tourists', \n",
    "           'International Tourists']\n",
    "\n",
    "#making a for loop to create each dataviz \n",
    "col = 0\n",
    "for i in range(2):\n",
    "    for j in range(2):\n",
    "        sns.histplot(data = df_de.sort_values(by=['Category']), \n",
    "                    y = columns[col], \n",
    "                    hue=\"Category\", #making the hue by Category\n",
    "                    ax = ax[i,j],\n",
    "                    palette=['#bc5090','#EA1F48']) \n",
    "        ax[i,j].set_title(f\"{columns[col]}\")\n",
    "        col+=1\n",
    "plt.tight_layout()"
   ]
  },
  {
   "cell_type": "code",
   "execution_count": 21,
   "id": "102fb540",
   "metadata": {},
   "outputs": [],
   "source": [
    "#análise: \n",
    "#Na categoria D: tem alguns outliers de visitantes e trabalhadores, mas a quantidade de estabelecimentos \n",
    "#está bem distorcida. Isso pode significar que a fonte de dados está um pouco torta ou que a cidade realmente não é muito interessante.\n",
    "#vale despriorizar essas cidades na hora de esoclher um destino.\n",
    "\n",
    "#Na categoria E: quase todos os dados são 0, então provavelmente essas cidades não são muito interessantes para visitar. \n",
    "#Cabe deixar para análise histórica mais não pode ser cidades interessantes para visitar."
   ]
  },
  {
   "cell_type": "markdown",
   "id": "8de4320e",
   "metadata": {},
   "source": [
    "## Time series analysis"
   ]
  },
  {
   "cell_type": "code",
   "execution_count": 22,
   "id": "24d62c76",
   "metadata": {},
   "outputs": [
    {
     "data": {
      "text/plain": [
       "(5570, 10)"
      ]
     },
     "execution_count": 22,
     "metadata": {},
     "output_type": "execute_result"
    }
   ],
   "source": [
    "#importing the 2016 data and renaming columns\n",
    "df_2016 = pd.read_csv(r\"data\\2016_MTur_Categorization.csv\", delimiter=';')\n",
    "\n",
    "#renaming columns to english and making sure they match the 2019 version\n",
    "df_2016.rename({'MACRO': 'Macro-Region', #the five official regions of Brazil based on shared characteristics, like climate or vegetation.\n",
    "           'UF': 'State', \n",
    "           'MUNICIPIO': 'City', \n",
    "           'REGIAO_TURISTICA': 'Tourist Region', \n",
    "           'QUANTIDADE_VISITAS_ESTIMADA_NACIONAL': 'Domestic Tourists', \n",
    "           'QUANTIDADE_VISITAS_ESTIMADA_INTERNACIONAL': 'International Tourists',\n",
    "           'QUANTIDADE_ESTABELECIMENTOS': 'Establishments', \n",
    "           'QUANTIDADE_EMPREGOS':'Jobs', \n",
    "           'CLUSTER':'Category',\n",
    "           'CODIGO_MUNICIPIO':'City Code'}, axis='columns', inplace=True)\n",
    "\n",
    "df_2016.shape"
   ]
  },
  {
   "cell_type": "code",
   "execution_count": 23,
   "id": "b40e0183",
   "metadata": {},
   "outputs": [
    {
     "data": {
      "text/plain": [
       "(3285, 10)"
      ]
     },
     "execution_count": 23,
     "metadata": {},
     "output_type": "execute_result"
    }
   ],
   "source": [
    "df_2017 = pd.read_csv(r\"data\\2017_MTur_Categorization.csv\", delimiter=';')\n",
    "\n",
    "#renaming columns to english and making sure they match the 2019 version\n",
    "df_2017.rename({'Macro Região': 'Macro-Region', \n",
    "           'UF': 'State', \n",
    "           'Município': 'City', \n",
    "           'Região': 'Tourist Region', \n",
    "           'Demanda Doméstica': 'Domestic Tourists', \n",
    "           'Demanda Internacional': 'International Tourists',\n",
    "           'Qtd. Estabelecimentos Hospedagem': 'Establishments', \n",
    "           'Qtd. Empregos Hospedagem':'Jobs', \n",
    "           'Cluster 2017 (Categoria)':'Category',\n",
    "           'Código Município':'City Code'}, axis='columns', inplace=True)\n",
    "\n",
    "df_2017.shape"
   ]
  },
  {
   "cell_type": "code",
   "execution_count": 24,
   "id": "7e4b4edf",
   "metadata": {},
   "outputs": [],
   "source": [
    "## análise: não tem a mesma quantidade de linhas\n",
    "#- tax revenue foi add em 2019"
   ]
  },
  {
   "cell_type": "code",
   "execution_count": 25,
   "id": "9615a503",
   "metadata": {},
   "outputs": [],
   "source": [
    "#adding a column to each df and concating the dataframes\n",
    "df['Year'] = 2019\n",
    "df_2016['Year'] = 2016\n",
    "df_2017['Year'] = 2017\n",
    "\n",
    "df_time = pd.concat([df, df_2016, df_2017])"
   ]
  },
  {
   "cell_type": "markdown",
   "id": "6df29717",
   "metadata": {},
   "source": [
    "### 1. Category Variation"
   ]
  },
  {
   "cell_type": "code",
   "execution_count": 61,
   "id": "f3d06eb8",
   "metadata": {},
   "outputs": [
    {
     "data": {
      "text/html": [
       "<div>\n",
       "<style scoped>\n",
       "    .dataframe tbody tr th:only-of-type {\n",
       "        vertical-align: middle;\n",
       "    }\n",
       "\n",
       "    .dataframe tbody tr th {\n",
       "        vertical-align: top;\n",
       "    }\n",
       "\n",
       "    .dataframe thead th {\n",
       "        text-align: right;\n",
       "    }\n",
       "</style>\n",
       "<table border=\"1\" class=\"dataframe\">\n",
       "  <thead>\n",
       "    <tr style=\"text-align: right;\">\n",
       "      <th>Category</th>\n",
       "      <th>A</th>\n",
       "      <th>B</th>\n",
       "      <th>C</th>\n",
       "      <th>D</th>\n",
       "      <th>E</th>\n",
       "      <th>All</th>\n",
       "    </tr>\n",
       "    <tr>\n",
       "      <th>Year</th>\n",
       "      <th></th>\n",
       "      <th></th>\n",
       "      <th></th>\n",
       "      <th></th>\n",
       "      <th></th>\n",
       "      <th></th>\n",
       "    </tr>\n",
       "  </thead>\n",
       "  <tbody>\n",
       "    <tr>\n",
       "      <th>2016</th>\n",
       "      <td>51</td>\n",
       "      <td>171</td>\n",
       "      <td>578</td>\n",
       "      <td>3102</td>\n",
       "      <td>1668</td>\n",
       "      <td>5570</td>\n",
       "    </tr>\n",
       "    <tr>\n",
       "      <th>2017</th>\n",
       "      <td>57</td>\n",
       "      <td>179</td>\n",
       "      <td>539</td>\n",
       "      <td>1961</td>\n",
       "      <td>549</td>\n",
       "      <td>3285</td>\n",
       "    </tr>\n",
       "    <tr>\n",
       "      <th>2019</th>\n",
       "      <td>57</td>\n",
       "      <td>221</td>\n",
       "      <td>419</td>\n",
       "      <td>1498</td>\n",
       "      <td>426</td>\n",
       "      <td>2621</td>\n",
       "    </tr>\n",
       "    <tr>\n",
       "      <th>All</th>\n",
       "      <td>165</td>\n",
       "      <td>571</td>\n",
       "      <td>1536</td>\n",
       "      <td>6561</td>\n",
       "      <td>2643</td>\n",
       "      <td>11476</td>\n",
       "    </tr>\n",
       "  </tbody>\n",
       "</table>\n",
       "</div>"
      ],
      "text/plain": [
       "Category    A    B     C     D     E    All\n",
       "Year                                       \n",
       "2016       51  171   578  3102  1668   5570\n",
       "2017       57  179   539  1961   549   3285\n",
       "2019       57  221   419  1498   426   2621\n",
       "All       165  571  1536  6561  2643  11476"
      ]
     },
     "execution_count": 61,
     "metadata": {},
     "output_type": "execute_result"
    }
   ],
   "source": [
    "df_time_pivot_category = pd.pivot_table(data = df_time,\n",
    "                                        values = 'City',\n",
    "                                        index = 'Year',\n",
    "                                        columns = ['Category'],\n",
    "                                        fill_value=0,\n",
    "                                        aggfunc='count',\n",
    "                                        margins = True)\n",
    "\n",
    "df_time_pivot_category"
   ]
  },
  {
   "cell_type": "code",
   "execution_count": 62,
   "id": "3399ec3e",
   "metadata": {},
   "outputs": [
    {
     "data": {
      "text/html": [
       "<div>\n",
       "<style scoped>\n",
       "    .dataframe tbody tr th:only-of-type {\n",
       "        vertical-align: middle;\n",
       "    }\n",
       "\n",
       "    .dataframe tbody tr th {\n",
       "        vertical-align: top;\n",
       "    }\n",
       "\n",
       "    .dataframe thead th {\n",
       "        text-align: right;\n",
       "    }\n",
       "</style>\n",
       "<table border=\"1\" class=\"dataframe\">\n",
       "  <thead>\n",
       "    <tr style=\"text-align: right;\">\n",
       "      <th>Category</th>\n",
       "      <th>A</th>\n",
       "      <th>B</th>\n",
       "      <th>C</th>\n",
       "      <th>D</th>\n",
       "      <th>E</th>\n",
       "    </tr>\n",
       "    <tr>\n",
       "      <th>Year</th>\n",
       "      <th></th>\n",
       "      <th></th>\n",
       "      <th></th>\n",
       "      <th></th>\n",
       "      <th></th>\n",
       "    </tr>\n",
       "  </thead>\n",
       "  <tbody>\n",
       "    <tr>\n",
       "      <th>2016</th>\n",
       "      <td>0.915619</td>\n",
       "      <td>3.070018</td>\n",
       "      <td>10.377020</td>\n",
       "      <td>55.691203</td>\n",
       "      <td>29.946140</td>\n",
       "    </tr>\n",
       "    <tr>\n",
       "      <th>2017</th>\n",
       "      <td>1.735160</td>\n",
       "      <td>5.449011</td>\n",
       "      <td>16.407915</td>\n",
       "      <td>59.695586</td>\n",
       "      <td>16.712329</td>\n",
       "    </tr>\n",
       "    <tr>\n",
       "      <th>2019</th>\n",
       "      <td>2.174742</td>\n",
       "      <td>8.431896</td>\n",
       "      <td>15.986265</td>\n",
       "      <td>57.153758</td>\n",
       "      <td>16.253338</td>\n",
       "    </tr>\n",
       "  </tbody>\n",
       "</table>\n",
       "</div>"
      ],
      "text/plain": [
       "Category         A         B          C          D          E\n",
       "Year                                                         \n",
       "2016      0.915619  3.070018  10.377020  55.691203  29.946140\n",
       "2017      1.735160  5.449011  16.407915  59.695586  16.712329\n",
       "2019      2.174742  8.431896  15.986265  57.153758  16.253338"
      ]
     },
     "execution_count": 62,
     "metadata": {},
     "output_type": "execute_result"
    }
   ],
   "source": [
    "#changing the pivottable to percent, first by diving the values by the margins \n",
    "#and then multiplying by 100 to ease labelling\n",
    "df_time_pivot_category = df_time_pivot_category.div(df_time_pivot_category.iloc[:,-1], axis=0).iloc[:-1 , :-1]\n",
    "df_time_pivot_category = df_time_pivot_category.mul(100, fill_value=0)\n",
    "\n",
    "df_time_pivot_category"
   ]
  },
  {
   "cell_type": "code",
   "execution_count": 65,
   "id": "aa2f8c61",
   "metadata": {},
   "outputs": [
    {
     "data": {
      "image/png": "[encoded data removed]",
      "text/plain": [
       "<Figure size 640x480 with 1 Axes>"
      ]
     },
     "metadata": {},
     "output_type": "display_data"
    }
   ],
   "source": [
    "df_time_pivot_category.plot(kind='bar', \n",
    "                            stacked=True, \n",
    "                            title= \"Category distribution accross the Years\").tick_params(axis='x', labelrotation=0)"
   ]
  },
  {
   "cell_type": "code",
   "execution_count": null,
   "id": "957204aa",
   "metadata": {},
   "outputs": [],
   "source": [
    "#analysis: explain that the solid number of A destinations doesnt change much, \n",
    "#and there was much more cities categorized as D and E in 2016 because they categorized all 5570 brazilian cities. However, I couldn't find why the total number of cities changes between 2017 and 2019\n",
    "#the real change comes in B and C. \n",
    "#This shows that seeing the variation between categories through the years can help me see which cities are worth visiting.\n",
    "#Also worth noting that even though the brute number changes, the percentage stays roughly the same."
   ]
  },
  {
   "cell_type": "markdown",
   "id": "5d4bf7ec",
   "metadata": {},
   "source": [
    "### 1.2 Identify cities with category variation"
   ]
  },
  {
   "cell_type": "code",
   "execution_count": null,
   "id": "7751a7ab",
   "metadata": {},
   "outputs": [],
   "source": []
  },
  {
   "cell_type": "code",
   "execution_count": null,
   "id": "9aed7bf7",
   "metadata": {},
   "outputs": [],
   "source": []
  }
 ],
 "metadata": {
  "kernelspec": {
   "display_name": "Python 3",
   "language": "python",
   "name": "python3"
  },
  "language_info": {
   "codemirror_mode": {
    "name": "ipython",
    "version": 3
   },
   "file_extension": ".py",
   "mimetype": "text/x-python",
   "name": "python",
   "nbconvert_exporter": "python",
   "pygments_lexer": "ipython3",
   "version": "3.12.0"
  }
 },
 "nbformat": 4,
 "nbformat_minor": 5
}
