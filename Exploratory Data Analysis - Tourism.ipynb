{
 "cells": [
  {
   "cell_type": "markdown",
   "id": "b5cc1b7b",
   "metadata": {},
   "source": [
    "# Brazilian cities to travel"
   ]
  },
  {
   "cell_type": "markdown",
   "id": "c525a901",
   "metadata": {},
   "source": [
    "<b> Goal: </b> This portfolio project showcases our expertise in data analysis through an in-depth examination of Brazilian cities identified by the Brazilian Ministry of Tourism as key destinations in their public policy plan (Mapa do Turismo/Tourism Map)"
   ]
  },
  {
   "cell_type": "code",
   "execution_count": 1,
   "id": "f1c7a3dc",
   "metadata": {},
   "outputs": [],
   "source": [
    "## adicionar índice [[indice]]"
   ]
  },
  {
   "cell_type": "markdown",
   "id": "607ad6e8",
   "metadata": {},
   "source": [
    "## 1. Descriptive Analysis"
   ]
  },
  {
   "cell_type": "code",
   "execution_count": 2,
   "id": "2a736e2a",
   "metadata": {},
   "outputs": [],
   "source": [
    "import pandas as pd\n",
    "import matplotlib.pyplot as plt\n",
    "import plotly.express as px"
   ]
  },
  {
   "cell_type": "code",
   "execution_count": 3,
   "metadata": {},
   "outputs": [
    {
     "data": {
      "text/html": [
       "<div>\n",
       "<style scoped>\n",
       "    .dataframe tbody tr th:only-of-type {\n",
       "        vertical-align: middle;\n",
       "    }\n",
       "\n",
       "    .dataframe tbody tr th {\n",
       "        vertical-align: top;\n",
       "    }\n",
       "\n",
       "    .dataframe thead th {\n",
       "        text-align: right;\n",
       "    }\n",
       "</style>\n",
       "<table border=\"1\" class=\"dataframe\">\n",
       "  <thead>\n",
       "    <tr style=\"text-align: right;\">\n",
       "      <th></th>\n",
       "      <th>MACRO</th>\n",
       "      <th>UF</th>\n",
       "      <th>REGIAO_TURISTICA</th>\n",
       "      <th>MUNICIPIO</th>\n",
       "      <th>COD_IBGE</th>\n",
       "      <th>QUANTIDADE_EMPREGOS</th>\n",
       "      <th>QUANTIDADE_ ESTABELECIMENTOS</th>\n",
       "      <th>QUANTIDADE_VISITAS_ESTIMADAS_ INTERNACIONAL</th>\n",
       "      <th>QUANTIDADE_VISITAS_ESTIMADAS_ NACIONAL</th>\n",
       "      <th>ARRECADACAO</th>\n",
       "      <th>CLUSTER</th>\n",
       "    </tr>\n",
       "  </thead>\n",
       "  <tbody>\n",
       "    <tr>\n",
       "      <th>0</th>\n",
       "      <td>Centro-Oeste</td>\n",
       "      <td>MT</td>\n",
       "      <td>Região Turística Portal do Agronegócio</td>\n",
       "      <td>Nova Mutum</td>\n",
       "      <td>5106224</td>\n",
       "      <td>89</td>\n",
       "      <td>14</td>\n",
       "      <td>0</td>\n",
       "      <td>15309</td>\n",
       "      <td>708887</td>\n",
       "      <td>C</td>\n",
       "    </tr>\n",
       "    <tr>\n",
       "      <th>1</th>\n",
       "      <td>Nordeste</td>\n",
       "      <td>MA</td>\n",
       "      <td>Polo Lagos e Campos Floridos</td>\n",
       "      <td>Cajapió</td>\n",
       "      <td>2102408</td>\n",
       "      <td>0</td>\n",
       "      <td>0</td>\n",
       "      <td>0</td>\n",
       "      <td>1376</td>\n",
       "      <td>0</td>\n",
       "      <td>D</td>\n",
       "    </tr>\n",
       "    <tr>\n",
       "      <th>2</th>\n",
       "      <td>Sudeste</td>\n",
       "      <td>MG</td>\n",
       "      <td>Caminhos da Mantiqueira</td>\n",
       "      <td>Brazópolis</td>\n",
       "      <td>3108909</td>\n",
       "      <td>6</td>\n",
       "      <td>3</td>\n",
       "      <td>0</td>\n",
       "      <td>25587</td>\n",
       "      <td>0</td>\n",
       "      <td>D</td>\n",
       "    </tr>\n",
       "    <tr>\n",
       "      <th>3</th>\n",
       "      <td>Sudeste</td>\n",
       "      <td>MG</td>\n",
       "      <td>Ouro</td>\n",
       "      <td>Caeté</td>\n",
       "      <td>3110004</td>\n",
       "      <td>310</td>\n",
       "      <td>11</td>\n",
       "      <td>0</td>\n",
       "      <td>23757</td>\n",
       "      <td>4944942</td>\n",
       "      <td>B</td>\n",
       "    </tr>\n",
       "    <tr>\n",
       "      <th>4</th>\n",
       "      <td>Sudeste</td>\n",
       "      <td>MG</td>\n",
       "      <td>Pedras Preciosas</td>\n",
       "      <td>Catuji</td>\n",
       "      <td>3115458</td>\n",
       "      <td>0</td>\n",
       "      <td>0</td>\n",
       "      <td>149</td>\n",
       "      <td>0</td>\n",
       "      <td>0</td>\n",
       "      <td>D</td>\n",
       "    </tr>\n",
       "  </tbody>\n",
       "</table>\n",
       "</div>"
      ],
      "text/plain": [
       "          MACRO  UF                        REGIAO_TURISTICA   MUNICIPIO  \\\n",
       "0  Centro-Oeste  MT  Região Turística Portal do Agronegócio  Nova Mutum   \n",
       "1      Nordeste  MA            Polo Lagos e Campos Floridos     Cajapió   \n",
       "2       Sudeste  MG                 Caminhos da Mantiqueira  Brazópolis   \n",
       "3       Sudeste  MG                                    Ouro       Caeté   \n",
       "4       Sudeste  MG                        Pedras Preciosas      Catuji   \n",
       "\n",
       "   COD_IBGE  QUANTIDADE_EMPREGOS  QUANTIDADE_ ESTABELECIMENTOS  \\\n",
       "0   5106224                   89                            14   \n",
       "1   2102408                    0                             0   \n",
       "2   3108909                    6                             3   \n",
       "3   3110004                  310                            11   \n",
       "4   3115458                    0                             0   \n",
       "\n",
       "   QUANTIDADE_VISITAS_ESTIMADAS_ INTERNACIONAL  \\\n",
       "0                                            0   \n",
       "1                                            0   \n",
       "2                                            0   \n",
       "3                                            0   \n",
       "4                                          149   \n",
       "\n",
       "   QUANTIDADE_VISITAS_ESTIMADAS_ NACIONAL  ARRECADACAO CLUSTER  \n",
       "0                                   15309       708887       C  \n",
       "1                                    1376            0       D  \n",
       "2                                   25587            0       D  \n",
       "3                                   23757      4944942       B  \n",
       "4                                       0            0       D  "
      ]
     },
     "execution_count": 3,
     "metadata": {},
     "output_type": "execute_result"
    }
   ],
   "source": [
    "df = pd.read_excel(r\"data\\relatorio_categorizacao_2019-portal.xls\")\n",
    "\n",
    "df.head()"
   ]
  },
  {
   "cell_type": "code",
   "execution_count": 4,
   "metadata": {},
   "outputs": [
    {
     "name": "stdout",
     "output_type": "stream",
     "text": [
      "<class 'pandas.core.frame.DataFrame'>\n",
      "RangeIndex: 2694 entries, 0 to 2693\n",
      "Data columns (total 11 columns):\n",
      " #   Column                                       Non-Null Count  Dtype \n",
      "---  ------                                       --------------  ----- \n",
      " 0   MACRO                                        2694 non-null   object\n",
      " 1   UF                                           2694 non-null   object\n",
      " 2   REGIAO_TURISTICA                             2694 non-null   object\n",
      " 3   MUNICIPIO                                    2694 non-null   object\n",
      " 4   COD_IBGE                                     2694 non-null   int64 \n",
      " 5   QUANTIDADE_EMPREGOS                          2694 non-null   int64 \n",
      " 6   QUANTIDADE_ ESTABELECIMENTOS                 2694 non-null   int64 \n",
      " 7   QUANTIDADE_VISITAS_ESTIMADAS_ INTERNACIONAL  2694 non-null   int64 \n",
      " 8   QUANTIDADE_VISITAS_ESTIMADAS_ NACIONAL       2694 non-null   int64 \n",
      " 9   ARRECADACAO                                  2694 non-null   int64 \n",
      " 10  CLUSTER                                      2694 non-null   object\n",
      "dtypes: int64(6), object(5)\n",
      "memory usage: 231.6+ KB\n"
     ]
    }
   ],
   "source": [
    "#showcasing data types and non-null cells in each column\n",
    "df.info()"
   ]
  },
  {
   "cell_type": "markdown",
   "metadata": {},
   "source": [
    "### 1.1 Distribution of Turistic States"
   ]
  },
  {
   "cell_type": "code",
   "execution_count": 5,
   "metadata": {},
   "outputs": [
    {
     "data": {
      "text/html": [
       "<div>\n",
       "<style scoped>\n",
       "    .dataframe tbody tr th:only-of-type {\n",
       "        vertical-align: middle;\n",
       "    }\n",
       "\n",
       "    .dataframe tbody tr th {\n",
       "        vertical-align: top;\n",
       "    }\n",
       "\n",
       "    .dataframe thead th {\n",
       "        text-align: right;\n",
       "    }\n",
       "</style>\n",
       "<table border=\"1\" class=\"dataframe\">\n",
       "  <thead>\n",
       "    <tr style=\"text-align: right;\">\n",
       "      <th></th>\n",
       "      <th>UF</th>\n",
       "      <th>MUNICIPIO</th>\n",
       "      <th>% MUNICIPIO TURISMO</th>\n",
       "    </tr>\n",
       "  </thead>\n",
       "  <tbody>\n",
       "    <tr>\n",
       "      <th>0</th>\n",
       "      <td>MG</td>\n",
       "      <td>471</td>\n",
       "      <td>17.5</td>\n",
       "    </tr>\n",
       "    <tr>\n",
       "      <th>1</th>\n",
       "      <td>SP</td>\n",
       "      <td>354</td>\n",
       "      <td>13.1</td>\n",
       "    </tr>\n",
       "    <tr>\n",
       "      <th>2</th>\n",
       "      <td>RS</td>\n",
       "      <td>345</td>\n",
       "      <td>12.8</td>\n",
       "    </tr>\n",
       "    <tr>\n",
       "      <th>3</th>\n",
       "      <td>PR</td>\n",
       "      <td>217</td>\n",
       "      <td>8.1</td>\n",
       "    </tr>\n",
       "    <tr>\n",
       "      <th>4</th>\n",
       "      <td>SC</td>\n",
       "      <td>177</td>\n",
       "      <td>6.6</td>\n",
       "    </tr>\n",
       "  </tbody>\n",
       "</table>\n",
       "</div>"
      ],
      "text/plain": [
       "   UF  MUNICIPIO  % MUNICIPIO TURISMO\n",
       "0  MG        471                 17.5\n",
       "1  SP        354                 13.1\n",
       "2  RS        345                 12.8\n",
       "3  PR        217                  8.1\n",
       "4  SC        177                  6.6"
      ]
     },
     "execution_count": 5,
     "metadata": {},
     "output_type": "execute_result"
    }
   ],
   "source": [
    "#distribution of uf (States) in the 2019 dataset\n",
    "\n",
    "#creating the pivot_table in which the pie chart will be based on\n",
    "df_count_uf = pd.pivot_table(data = df,\n",
    "                             values = 'MUNICIPIO',\n",
    "                             index = 'UF',\n",
    "                             aggfunc='count').sort_values(by='MUNICIPIO',ascending=False).reset_index()\n",
    "\n",
    "df_count_uf['% MUNICIPIO TURISMO'] = round((df_count_uf['MUNICIPIO']/df_count_uf['MUNICIPIO'].sum())*100,1)\n",
    "\n",
    "df_count_uf.head()"
   ]
  },
  {
   "cell_type": "code",
   "execution_count": 6,
   "metadata": {},
   "outputs": [
    {
     "data": {
      "text/plain": [
       "(5570, 14)"
      ]
     },
     "execution_count": 6,
     "metadata": {},
     "output_type": "execute_result"
    }
   ],
   "source": [
    "## comparing the distribution in the categorized dataset to that of all brazilian cities\n",
    "\n",
    "df_munic = pd.read_excel(r\"data\\RELATORIO_DTB_BRASIL_MUNICIPIO.xls\", header = 6)\n",
    "\n",
    "df_munic.shape\n"
   ]
  },
  {
   "cell_type": "code",
   "execution_count": 7,
   "metadata": {},
   "outputs": [
    {
     "data": {
      "text/html": [
       "<div>\n",
       "<style scoped>\n",
       "    .dataframe tbody tr th:only-of-type {\n",
       "        vertical-align: middle;\n",
       "    }\n",
       "\n",
       "    .dataframe tbody tr th {\n",
       "        vertical-align: top;\n",
       "    }\n",
       "\n",
       "    .dataframe thead th {\n",
       "        text-align: right;\n",
       "    }\n",
       "</style>\n",
       "<table border=\"1\" class=\"dataframe\">\n",
       "  <thead>\n",
       "    <tr style=\"text-align: right;\">\n",
       "      <th></th>\n",
       "      <th>Uf</th>\n",
       "      <th>Variable</th>\n",
       "      <th>Value</th>\n",
       "    </tr>\n",
       "  </thead>\n",
       "  <tbody>\n",
       "    <tr>\n",
       "      <th>0</th>\n",
       "      <td>MG</td>\n",
       "      <td>% MUNICIPIO TURISMO</td>\n",
       "      <td>17.5</td>\n",
       "    </tr>\n",
       "    <tr>\n",
       "      <th>1</th>\n",
       "      <td>SP</td>\n",
       "      <td>% MUNICIPIO TURISMO</td>\n",
       "      <td>13.1</td>\n",
       "    </tr>\n",
       "    <tr>\n",
       "      <th>2</th>\n",
       "      <td>RS</td>\n",
       "      <td>% MUNICIPIO TURISMO</td>\n",
       "      <td>12.8</td>\n",
       "    </tr>\n",
       "    <tr>\n",
       "      <th>3</th>\n",
       "      <td>PR</td>\n",
       "      <td>% MUNICIPIO TURISMO</td>\n",
       "      <td>8.1</td>\n",
       "    </tr>\n",
       "    <tr>\n",
       "      <th>4</th>\n",
       "      <td>SC</td>\n",
       "      <td>% MUNICIPIO TURISMO</td>\n",
       "      <td>6.6</td>\n",
       "    </tr>\n",
       "  </tbody>\n",
       "</table>\n",
       "</div>"
      ],
      "text/plain": [
       "   Uf             Variable  Value\n",
       "0  MG  % MUNICIPIO TURISMO   17.5\n",
       "1  SP  % MUNICIPIO TURISMO   13.1\n",
       "2  RS  % MUNICIPIO TURISMO   12.8\n",
       "3  PR  % MUNICIPIO TURISMO    8.1\n",
       "4  SC  % MUNICIPIO TURISMO    6.6"
      ]
     },
     "execution_count": 7,
     "metadata": {},
     "output_type": "execute_result"
    }
   ],
   "source": [
    "#making a pivot table of the total cities in Brazil \n",
    "#in order to compare the distribution of the total turist cities \n",
    "\n",
    "df_count_munic_total = pd.pivot_table(data = df_munic,\n",
    "                             values = 'MUNICIPIO',\n",
    "                             index = 'UF',\n",
    "                             aggfunc='count').sort_values(by='MUNICIPIO',ascending=False).reset_index()\n",
    "\n",
    "df_count_munic_total['% MUNICIPIO TOTAL'] = round((df_count_munic_total['MUNICIPIO']/df_count_munic_total['MUNICIPIO'].sum())*100,1)\n",
    "\n",
    "#merging the first pivot table and the total\n",
    "df_compare = pd.merge(df_count_uf[['UF','% MUNICIPIO TURISMO']],\n",
    "                     df_count_munic_total[['UF','% MUNICIPIO TOTAL']], \n",
    "                     how = \"outer\", \n",
    "                     on='UF')\n",
    "\n",
    "df_compare = df_compare.melt(id_vars='UF').rename(columns=str.title)\n",
    "\n",
    "df_compare.head()"
   ]
  },
  {
   "cell_type": "code",
   "execution_count": 16,
   "metadata": {},
   "outputs": [
    {
     "data": {
      "application/vnd.plotly.v1+json": {
       "config": {
        "plotlyServerURL": "https://plot.ly"
       },
       "data": [
        {
         "alignmentgroup": "True",
         "hovertemplate": "Variable=% MUNICIPIO TURISMO<br>Uf=%{x}<br>Value=%{y}<extra></extra>",
         "legendgroup": "% MUNICIPIO TURISMO",
         "marker": {
          "color": "#636efa",
          "pattern": {
           "shape": ""
          }
         },
         "name": "% MUNICIPIO TURISMO",
         "offsetgroup": "% MUNICIPIO TURISMO",
         "orientation": "v",
         "showlegend": true,
         "textposition": "inside",
         "texttemplate": "%{y:10}",
         "type": "bar",
         "x": [
          "MG",
          "SP",
          "RS",
          "PR",
          "SC",
          "BA",
          "MT",
          "RJ",
          "RN",
          "GO",
          "PE",
          "CE",
          "PB",
          "MA",
          "ES",
          "PA",
          "AL",
          "TO",
          "SE",
          "MS",
          "PI",
          "RO",
          "AM",
          "AC",
          "AP",
          "RR",
          "DF"
         ],
         "xaxis": "x",
         "y": [
          17.5,
          13.1,
          12.8,
          8.1,
          6.6,
          4.9,
          3.2,
          3.1,
          2.9,
          2.9,
          2.8,
          2.5,
          2.5,
          2,
          2,
          2,
          1.9,
          1.8,
          1.7,
          1.6,
          1.1,
          0.9,
          0.9,
          0.5,
          0.4,
          0.3,
          0
         ],
         "yaxis": "y"
        },
        {
         "alignmentgroup": "True",
         "hovertemplate": "Variable=% MUNICIPIO TOTAL<br>Uf=%{x}<br>Value=%{y}<extra></extra>",
         "legendgroup": "% MUNICIPIO TOTAL",
         "marker": {
          "color": "#EF553B",
          "pattern": {
           "shape": ""
          }
         },
         "name": "% MUNICIPIO TOTAL",
         "offsetgroup": "% MUNICIPIO TOTAL",
         "orientation": "v",
         "showlegend": true,
         "textposition": "inside",
         "texttemplate": "%{y:10}",
         "type": "bar",
         "x": [
          "MG",
          "SP",
          "RS",
          "PR",
          "SC",
          "BA",
          "MT",
          "RJ",
          "RN",
          "GO",
          "PE",
          "CE",
          "PB",
          "MA",
          "ES",
          "PA",
          "AL",
          "TO",
          "SE",
          "MS",
          "PI",
          "RO",
          "AM",
          "AC",
          "AP",
          "RR",
          "DF"
         ],
         "xaxis": "x",
         "y": [
          15.3,
          11.6,
          8.9,
          7.2,
          5.3,
          7.5,
          2.5,
          1.7,
          3,
          4.4,
          3.3,
          3.3,
          4,
          3.9,
          1.4,
          2.6,
          1.8,
          2.5,
          1.3,
          1.4,
          4,
          0.9,
          1.1,
          0.4,
          0.3,
          0.3,
          0
         ],
         "yaxis": "y"
        }
       ],
       "layout": {
        "barmode": "group",
        "legend": {
         "title": {
          "text": "Variable"
         },
         "tracegroupgap": 0
        },
        "template": {
         "data": {
          "bar": [
           {
            "error_x": {
             "color": "#2a3f5f"
            },
            "error_y": {
             "color": "#2a3f5f"
            },
            "marker": {
             "line": {
              "color": "#E5ECF6",
              "width": 0.5
             },
             "pattern": {
              "fillmode": "overlay",
              "size": 10,
              "solidity": 0.2
             }
            },
            "type": "bar"
           }
          ],
          "barpolar": [
           {
            "marker": {
             "line": {
              "color": "#E5ECF6",
              "width": 0.5
             },
             "pattern": {
              "fillmode": "overlay",
              "size": 10,
              "solidity": 0.2
             }
            },
            "type": "barpolar"
           }
          ],
          "carpet": [
           {
            "aaxis": {
             "endlinecolor": "#2a3f5f",
             "gridcolor": "white",
             "linecolor": "white",
             "minorgridcolor": "white",
             "startlinecolor": "#2a3f5f"
            },
            "baxis": {
             "endlinecolor": "#2a3f5f",
             "gridcolor": "white",
             "linecolor": "white",
             "minorgridcolor": "white",
             "startlinecolor": "#2a3f5f"
            },
            "type": "carpet"
           }
          ],
          "choropleth": [
           {
            "colorbar": {
             "outlinewidth": 0,
             "ticks": ""
            },
            "type": "choropleth"
           }
          ],
          "contour": [
           {
            "colorbar": {
             "outlinewidth": 0,
             "ticks": ""
            },
            "colorscale": [
             [
              0,
              "#0d0887"
             ],
             [
              0.1111111111111111,
              "#46039f"
             ],
             [
              0.2222222222222222,
              "#7201a8"
             ],
             [
              0.3333333333333333,
              "#9c179e"
             ],
             [
              0.4444444444444444,
              "#bd3786"
             ],
             [
              0.5555555555555556,
              "#d8576b"
             ],
             [
              0.6666666666666666,
              "#ed7953"
             ],
             [
              0.7777777777777778,
              "#fb9f3a"
             ],
             [
              0.8888888888888888,
              "#fdca26"
             ],
             [
              1,
              "#f0f921"
             ]
            ],
            "type": "contour"
           }
          ],
          "contourcarpet": [
           {
            "colorbar": {
             "outlinewidth": 0,
             "ticks": ""
            },
            "type": "contourcarpet"
           }
          ],
          "heatmap": [
           {
            "colorbar": {
             "outlinewidth": 0,
             "ticks": ""
            },
            "colorscale": [
             [
              0,
              "#0d0887"
             ],
             [
              0.1111111111111111,
              "#46039f"
             ],
             [
              0.2222222222222222,
              "#7201a8"
             ],
             [
              0.3333333333333333,
              "#9c179e"
             ],
             [
              0.4444444444444444,
              "#bd3786"
             ],
             [
              0.5555555555555556,
              "#d8576b"
             ],
             [
              0.6666666666666666,
              "#ed7953"
             ],
             [
              0.7777777777777778,
              "#fb9f3a"
             ],
             [
              0.8888888888888888,
              "#fdca26"
             ],
             [
              1,
              "#f0f921"
             ]
            ],
            "type": "heatmap"
           }
          ],
          "heatmapgl": [
           {
            "colorbar": {
             "outlinewidth": 0,
             "ticks": ""
            },
            "colorscale": [
             [
              0,
              "#0d0887"
             ],
             [
              0.1111111111111111,
              "#46039f"
             ],
             [
              0.2222222222222222,
              "#7201a8"
             ],
             [
              0.3333333333333333,
              "#9c179e"
             ],
             [
              0.4444444444444444,
              "#bd3786"
             ],
             [
              0.5555555555555556,
              "#d8576b"
             ],
             [
              0.6666666666666666,
              "#ed7953"
             ],
             [
              0.7777777777777778,
              "#fb9f3a"
             ],
             [
              0.8888888888888888,
              "#fdca26"
             ],
             [
              1,
              "#f0f921"
             ]
            ],
            "type": "heatmapgl"
           }
          ],
          "histogram": [
           {
            "marker": {
             "pattern": {
              "fillmode": "overlay",
              "size": 10,
              "solidity": 0.2
             }
            },
            "type": "histogram"
           }
          ],
          "histogram2d": [
           {
            "colorbar": {
             "outlinewidth": 0,
             "ticks": ""
            },
            "colorscale": [
             [
              0,
              "#0d0887"
             ],
             [
              0.1111111111111111,
              "#46039f"
             ],
             [
              0.2222222222222222,
              "#7201a8"
             ],
             [
              0.3333333333333333,
              "#9c179e"
             ],
             [
              0.4444444444444444,
              "#bd3786"
             ],
             [
              0.5555555555555556,
              "#d8576b"
             ],
             [
              0.6666666666666666,
              "#ed7953"
             ],
             [
              0.7777777777777778,
              "#fb9f3a"
             ],
             [
              0.8888888888888888,
              "#fdca26"
             ],
             [
              1,
              "#f0f921"
             ]
            ],
            "type": "histogram2d"
           }
          ],
          "histogram2dcontour": [
           {
            "colorbar": {
             "outlinewidth": 0,
             "ticks": ""
            },
            "colorscale": [
             [
              0,
              "#0d0887"
             ],
             [
              0.1111111111111111,
              "#46039f"
             ],
             [
              0.2222222222222222,
              "#7201a8"
             ],
             [
              0.3333333333333333,
              "#9c179e"
             ],
             [
              0.4444444444444444,
              "#bd3786"
             ],
             [
              0.5555555555555556,
              "#d8576b"
             ],
             [
              0.6666666666666666,
              "#ed7953"
             ],
             [
              0.7777777777777778,
              "#fb9f3a"
             ],
             [
              0.8888888888888888,
              "#fdca26"
             ],
             [
              1,
              "#f0f921"
             ]
            ],
            "type": "histogram2dcontour"
           }
          ],
          "mesh3d": [
           {
            "colorbar": {
             "outlinewidth": 0,
             "ticks": ""
            },
            "type": "mesh3d"
           }
          ],
          "parcoords": [
           {
            "line": {
             "colorbar": {
              "outlinewidth": 0,
              "ticks": ""
             }
            },
            "type": "parcoords"
           }
          ],
          "pie": [
           {
            "automargin": true,
            "type": "pie"
           }
          ],
          "scatter": [
           {
            "fillpattern": {
             "fillmode": "overlay",
             "size": 10,
             "solidity": 0.2
            },
            "type": "scatter"
           }
          ],
          "scatter3d": [
           {
            "line": {
             "colorbar": {
              "outlinewidth": 0,
              "ticks": ""
             }
            },
            "marker": {
             "colorbar": {
              "outlinewidth": 0,
              "ticks": ""
             }
            },
            "type": "scatter3d"
           }
          ],
          "scattercarpet": [
           {
            "marker": {
             "colorbar": {
              "outlinewidth": 0,
              "ticks": ""
             }
            },
            "type": "scattercarpet"
           }
          ],
          "scattergeo": [
           {
            "marker": {
             "colorbar": {
              "outlinewidth": 0,
              "ticks": ""
             }
            },
            "type": "scattergeo"
           }
          ],
          "scattergl": [
           {
            "marker": {
             "colorbar": {
              "outlinewidth": 0,
              "ticks": ""
             }
            },
            "type": "scattergl"
           }
          ],
          "scattermapbox": [
           {
            "marker": {
             "colorbar": {
              "outlinewidth": 0,
              "ticks": ""
             }
            },
            "type": "scattermapbox"
           }
          ],
          "scatterpolar": [
           {
            "marker": {
             "colorbar": {
              "outlinewidth": 0,
              "ticks": ""
             }
            },
            "type": "scatterpolar"
           }
          ],
          "scatterpolargl": [
           {
            "marker": {
             "colorbar": {
              "outlinewidth": 0,
              "ticks": ""
             }
            },
            "type": "scatterpolargl"
           }
          ],
          "scatterternary": [
           {
            "marker": {
             "colorbar": {
              "outlinewidth": 0,
              "ticks": ""
             }
            },
            "type": "scatterternary"
           }
          ],
          "surface": [
           {
            "colorbar": {
             "outlinewidth": 0,
             "ticks": ""
            },
            "colorscale": [
             [
              0,
              "#0d0887"
             ],
             [
              0.1111111111111111,
              "#46039f"
             ],
             [
              0.2222222222222222,
              "#7201a8"
             ],
             [
              0.3333333333333333,
              "#9c179e"
             ],
             [
              0.4444444444444444,
              "#bd3786"
             ],
             [
              0.5555555555555556,
              "#d8576b"
             ],
             [
              0.6666666666666666,
              "#ed7953"
             ],
             [
              0.7777777777777778,
              "#fb9f3a"
             ],
             [
              0.8888888888888888,
              "#fdca26"
             ],
             [
              1,
              "#f0f921"
             ]
            ],
            "type": "surface"
           }
          ],
          "table": [
           {
            "cells": {
             "fill": {
              "color": "#EBF0F8"
             },
             "line": {
              "color": "white"
             }
            },
            "header": {
             "fill": {
              "color": "#C8D4E3"
             },
             "line": {
              "color": "white"
             }
            },
            "type": "table"
           }
          ]
         },
         "layout": {
          "annotationdefaults": {
           "arrowcolor": "#2a3f5f",
           "arrowhead": 0,
           "arrowwidth": 1
          },
          "autotypenumbers": "strict",
          "coloraxis": {
           "colorbar": {
            "outlinewidth": 0,
            "ticks": ""
           }
          },
          "colorscale": {
           "diverging": [
            [
             0,
             "#8e0152"
            ],
            [
             0.1,
             "#c51b7d"
            ],
            [
             0.2,
             "#de77ae"
            ],
            [
             0.3,
             "#f1b6da"
            ],
            [
             0.4,
             "#fde0ef"
            ],
            [
             0.5,
             "#f7f7f7"
            ],
            [
             0.6,
             "#e6f5d0"
            ],
            [
             0.7,
             "#b8e186"
            ],
            [
             0.8,
             "#7fbc41"
            ],
            [
             0.9,
             "#4d9221"
            ],
            [
             1,
             "#276419"
            ]
           ],
           "sequential": [
            [
             0,
             "#0d0887"
            ],
            [
             0.1111111111111111,
             "#46039f"
            ],
            [
             0.2222222222222222,
             "#7201a8"
            ],
            [
             0.3333333333333333,
             "#9c179e"
            ],
            [
             0.4444444444444444,
             "#bd3786"
            ],
            [
             0.5555555555555556,
             "#d8576b"
            ],
            [
             0.6666666666666666,
             "#ed7953"
            ],
            [
             0.7777777777777778,
             "#fb9f3a"
            ],
            [
             0.8888888888888888,
             "#fdca26"
            ],
            [
             1,
             "#f0f921"
            ]
           ],
           "sequentialminus": [
            [
             0,
             "#0d0887"
            ],
            [
             0.1111111111111111,
             "#46039f"
            ],
            [
             0.2222222222222222,
             "#7201a8"
            ],
            [
             0.3333333333333333,
             "#9c179e"
            ],
            [
             0.4444444444444444,
             "#bd3786"
            ],
            [
             0.5555555555555556,
             "#d8576b"
            ],
            [
             0.6666666666666666,
             "#ed7953"
            ],
            [
             0.7777777777777778,
             "#fb9f3a"
            ],
            [
             0.8888888888888888,
             "#fdca26"
            ],
            [
             1,
             "#f0f921"
            ]
           ]
          },
          "colorway": [
           "#636efa",
           "#EF553B",
           "#00cc96",
           "#ab63fa",
           "#FFA15A",
           "#19d3f3",
           "#FF6692",
           "#B6E880",
           "#FF97FF",
           "#FECB52"
          ],
          "font": {
           "color": "#2a3f5f"
          },
          "geo": {
           "bgcolor": "white",
           "lakecolor": "white",
           "landcolor": "#E5ECF6",
           "showlakes": true,
           "showland": true,
           "subunitcolor": "white"
          },
          "hoverlabel": {
           "align": "left"
          },
          "hovermode": "closest",
          "mapbox": {
           "style": "light"
          },
          "paper_bgcolor": "white",
          "plot_bgcolor": "#E5ECF6",
          "polar": {
           "angularaxis": {
            "gridcolor": "white",
            "linecolor": "white",
            "ticks": ""
           },
           "bgcolor": "#E5ECF6",
           "radialaxis": {
            "gridcolor": "white",
            "linecolor": "white",
            "ticks": ""
           }
          },
          "scene": {
           "xaxis": {
            "backgroundcolor": "#E5ECF6",
            "gridcolor": "white",
            "gridwidth": 2,
            "linecolor": "white",
            "showbackground": true,
            "ticks": "",
            "zerolinecolor": "white"
           },
           "yaxis": {
            "backgroundcolor": "#E5ECF6",
            "gridcolor": "white",
            "gridwidth": 2,
            "linecolor": "white",
            "showbackground": true,
            "ticks": "",
            "zerolinecolor": "white"
           },
           "zaxis": {
            "backgroundcolor": "#E5ECF6",
            "gridcolor": "white",
            "gridwidth": 2,
            "linecolor": "white",
            "showbackground": true,
            "ticks": "",
            "zerolinecolor": "white"
           }
          },
          "shapedefaults": {
           "line": {
            "color": "#2a3f5f"
           }
          },
          "ternary": {
           "aaxis": {
            "gridcolor": "white",
            "linecolor": "white",
            "ticks": ""
           },
           "baxis": {
            "gridcolor": "white",
            "linecolor": "white",
            "ticks": ""
           },
           "bgcolor": "#E5ECF6",
           "caxis": {
            "gridcolor": "white",
            "linecolor": "white",
            "ticks": ""
           }
          },
          "title": {
           "x": 0.05
          },
          "xaxis": {
           "automargin": true,
           "gridcolor": "white",
           "linecolor": "white",
           "ticks": "",
           "title": {
            "standoff": 15
           },
           "zerolinecolor": "white",
           "zerolinewidth": 2
          },
          "yaxis": {
           "automargin": true,
           "gridcolor": "white",
           "linecolor": "white",
           "ticks": "",
           "title": {
            "standoff": 15
           },
           "zerolinecolor": "white",
           "zerolinewidth": 2
          }
         }
        },
        "title": {
         "text": "Comparing Tursitic Cities distribution to all Brazilian cities"
        },
        "width": 1600,
        "xaxis": {
         "anchor": "y",
         "domain": [
          0,
          1
         ],
         "title": {
          "text": "Uf"
         }
        },
        "yaxis": {
         "anchor": "x",
         "domain": [
          0,
          1
         ],
         "title": {
          "text": "Value"
         }
        }
       }
      }
     },
     "metadata": {},
     "output_type": "display_data"
    }
   ],
   "source": [
    "fig_states = px.bar(df_compare,\n",
    "                    x=\"Uf\",\n",
    "                    y=\"Value\",\n",
    "                    color=\"Variable\",\n",
    "                    barmode='group',\n",
    "                    text_auto='10',\n",
    "                    width = 1600,\n",
    "                    title=\"Comparing Tursitic Cities distribution to all Brazilian cities\")\n",
    "\n",
    "fig_states.update_traces(textposition='inside')\n",
    "\n",
    "fig_states.show()"
   ]
  },
  {
   "cell_type": "markdown",
   "metadata": {},
   "source": [
    "Generally, the distribution accompanies the general distribution of cities in Brazil as a whole. Some notable exceptions are: RS (Rio Grande do Sul), BA (Bahia) and PI (Piauí). Therefore, we can conclude that there is not a significant misrepresentation of each reagion, even though the database is imbalanced."
   ]
  },
  {
   "cell_type": "markdown",
   "metadata": {},
   "source": [
    "### 1.2 Quantitative Measures"
   ]
  },
  {
   "cell_type": "code",
   "execution_count": 10,
   "metadata": {},
   "outputs": [
    {
     "data": {
      "text/html": [
       "<div>\n",
       "<style scoped>\n",
       "    .dataframe tbody tr th:only-of-type {\n",
       "        vertical-align: middle;\n",
       "    }\n",
       "\n",
       "    .dataframe tbody tr th {\n",
       "        vertical-align: top;\n",
       "    }\n",
       "\n",
       "    .dataframe thead th {\n",
       "        text-align: right;\n",
       "    }\n",
       "</style>\n",
       "<table border=\"1\" class=\"dataframe\">\n",
       "  <thead>\n",
       "    <tr style=\"text-align: right;\">\n",
       "      <th></th>\n",
       "      <th>COD_IBGE</th>\n",
       "      <th>QUANTIDADE_EMPREGOS</th>\n",
       "      <th>QUANTIDADE_ ESTABELECIMENTOS</th>\n",
       "      <th>QUANTIDADE_VISITAS_ESTIMADAS_ INTERNACIONAL</th>\n",
       "      <th>QUANTIDADE_VISITAS_ESTIMADAS_ NACIONAL</th>\n",
       "      <th>ARRECADACAO</th>\n",
       "    </tr>\n",
       "  </thead>\n",
       "  <tbody>\n",
       "    <tr>\n",
       "      <th>count</th>\n",
       "      <td>2.694000e+03</td>\n",
       "      <td>2694.000000</td>\n",
       "      <td>2694.000000</td>\n",
       "      <td>2.694000e+03</td>\n",
       "      <td>2.694000e+03</td>\n",
       "      <td>2.694000e+03</td>\n",
       "    </tr>\n",
       "    <tr>\n",
       "      <th>mean</th>\n",
       "      <td>3.405169e+06</td>\n",
       "      <td>93.380475</td>\n",
       "      <td>7.516333</td>\n",
       "      <td>3.850519e+03</td>\n",
       "      <td>6.383554e+04</td>\n",
       "      <td>1.238121e+06</td>\n",
       "    </tr>\n",
       "    <tr>\n",
       "      <th>std</th>\n",
       "      <td>9.310852e+05</td>\n",
       "      <td>555.239839</td>\n",
       "      <td>26.203060</td>\n",
       "      <td>4.667117e+04</td>\n",
       "      <td>3.930170e+05</td>\n",
       "      <td>1.310179e+07</td>\n",
       "    </tr>\n",
       "    <tr>\n",
       "      <th>min</th>\n",
       "      <td>1.100015e+06</td>\n",
       "      <td>0.000000</td>\n",
       "      <td>0.000000</td>\n",
       "      <td>0.000000e+00</td>\n",
       "      <td>0.000000e+00</td>\n",
       "      <td>0.000000e+00</td>\n",
       "    </tr>\n",
       "    <tr>\n",
       "      <th>25%</th>\n",
       "      <td>2.905852e+06</td>\n",
       "      <td>0.000000</td>\n",
       "      <td>0.000000</td>\n",
       "      <td>0.000000e+00</td>\n",
       "      <td>0.000000e+00</td>\n",
       "      <td>0.000000e+00</td>\n",
       "    </tr>\n",
       "    <tr>\n",
       "      <th>50%</th>\n",
       "      <td>3.302650e+06</td>\n",
       "      <td>6.000000</td>\n",
       "      <td>2.000000</td>\n",
       "      <td>3.800000e+01</td>\n",
       "      <td>5.376500e+03</td>\n",
       "      <td>0.000000e+00</td>\n",
       "    </tr>\n",
       "    <tr>\n",
       "      <th>75%</th>\n",
       "      <td>4.205982e+06</td>\n",
       "      <td>35.000000</td>\n",
       "      <td>6.000000</td>\n",
       "      <td>3.730000e+02</td>\n",
       "      <td>2.789175e+04</td>\n",
       "      <td>0.000000e+00</td>\n",
       "    </tr>\n",
       "    <tr>\n",
       "      <th>max</th>\n",
       "      <td>5.300108e+06</td>\n",
       "      <td>17946.000000</td>\n",
       "      <td>785.000000</td>\n",
       "      <td>1.651696e+06</td>\n",
       "      <td>1.347863e+07</td>\n",
       "      <td>4.733092e+08</td>\n",
       "    </tr>\n",
       "  </tbody>\n",
       "</table>\n",
       "</div>"
      ],
      "text/plain": [
       "           COD_IBGE  QUANTIDADE_EMPREGOS  QUANTIDADE_ ESTABELECIMENTOS  \\\n",
       "count  2.694000e+03          2694.000000                   2694.000000   \n",
       "mean   3.405169e+06            93.380475                      7.516333   \n",
       "std    9.310852e+05           555.239839                     26.203060   \n",
       "min    1.100015e+06             0.000000                      0.000000   \n",
       "25%    2.905852e+06             0.000000                      0.000000   \n",
       "50%    3.302650e+06             6.000000                      2.000000   \n",
       "75%    4.205982e+06            35.000000                      6.000000   \n",
       "max    5.300108e+06         17946.000000                    785.000000   \n",
       "\n",
       "       QUANTIDADE_VISITAS_ESTIMADAS_ INTERNACIONAL  \\\n",
       "count                                 2.694000e+03   \n",
       "mean                                  3.850519e+03   \n",
       "std                                   4.667117e+04   \n",
       "min                                   0.000000e+00   \n",
       "25%                                   0.000000e+00   \n",
       "50%                                   3.800000e+01   \n",
       "75%                                   3.730000e+02   \n",
       "max                                   1.651696e+06   \n",
       "\n",
       "       QUANTIDADE_VISITAS_ESTIMADAS_ NACIONAL   ARRECADACAO  \n",
       "count                            2.694000e+03  2.694000e+03  \n",
       "mean                             6.383554e+04  1.238121e+06  \n",
       "std                              3.930170e+05  1.310179e+07  \n",
       "min                              0.000000e+00  0.000000e+00  \n",
       "25%                              0.000000e+00  0.000000e+00  \n",
       "50%                              5.376500e+03  0.000000e+00  \n",
       "75%                              2.789175e+04  0.000000e+00  \n",
       "max                              1.347863e+07  4.733092e+08  "
      ]
     },
     "execution_count": 10,
     "metadata": {},
     "output_type": "execute_result"
    }
   ],
   "source": [
    "#seeing most numbers\n",
    "df.describe()"
   ]
  },
  {
   "cell_type": "markdown",
   "metadata": {},
   "source": [
    "[[ANÁLISE SOBRE:\n",
    "- 25%-50% de demanda internacional e nacional é zero ((fazer boxplots))\n",
    "- a distância de mediana e mean em todas as métricas\n",
    "- entender o perfil de cada categoria/classe\n",
    "- entender a distribuição de 0 -- provavelmente todos os null foram convertidos em 0]]"
   ]
  },
  {
   "cell_type": "code",
   "execution_count": 11,
   "metadata": {},
   "outputs": [],
   "source": [
    "##boxplot de todas as métricas\n",
    "## count 0 (possi)"
   ]
  },
  {
   "cell_type": "markdown",
   "metadata": {},
   "source": [
    "## 1.2 Histórico\n",
    "\n",
    "avaliar quais métricas conseguem ser cruzadas com o histórico 2016 e 2017."
   ]
  },
  {
   "cell_type": "markdown",
   "metadata": {},
   "source": []
  }
 ],
 "metadata": {
  "kernelspec": {
   "display_name": "Python 3",
   "language": "python",
   "name": "python3"
  },
  "language_info": {
   "codemirror_mode": {
    "name": "ipython",
    "version": 3
   },
   "file_extension": ".py",
   "mimetype": "text/x-python",
   "name": "python",
   "nbconvert_exporter": "python",
   "pygments_lexer": "ipython3",
   "version": "3.12.0"
  }
 },
 "nbformat": 4,
 "nbformat_minor": 5
}
