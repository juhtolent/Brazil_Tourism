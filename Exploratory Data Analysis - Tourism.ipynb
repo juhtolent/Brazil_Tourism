{
 "cells": [
  {
   "cell_type": "markdown",
   "id": "b5cc1b7b",
   "metadata": {},
   "source": [
    "# Brazilian cities to travel"
   ]
  },
  {
   "cell_type": "markdown",
   "id": "c525a901",
   "metadata": {},
   "source": [
    "<b> Goal: </b> This portfolio project showcases my expertise in data analysis through an in-depth examination of 3,175 Brazilian cities identified by the Brazilian Ministry of Tourism as key destinations in their public policy plan (Mapa do Turismo/Tourism Map)"
   ]
  },
  {
   "cell_type": "markdown",
   "id": "f1c7a3dc",
   "metadata": {},
   "source": [
    "[[indice]]"
   ]
  },
  {
   "cell_type": "markdown",
   "id": "607ad6e8",
   "metadata": {},
   "source": [
    "### 1. Databases"
   ]
  },
  {
   "cell_type": "markdown",
   "id": "6e0d36a5",
   "metadata": {},
   "source": []
  },
  {
   "cell_type": "code",
   "execution_count": 2,
   "id": "2a736e2a",
   "metadata": {},
   "outputs": [],
   "source": [
    "import numpy as np\n",
    "import pandas as pd\n",
    "import matplotlib as plt\n",
    "import seaborn as sns\n",
    "import plotly.express as px"
   ]
  }
 ],
 "metadata": {
  "kernelspec": {
   "display_name": "Python 3",
   "language": "python",
   "name": "python3"
  },
  "language_info": {
   "codemirror_mode": {
    "name": "ipython",
    "version": 3
   },
   "file_extension": ".py",
   "mimetype": "text/x-python",
   "name": "python",
   "nbconvert_exporter": "python",
   "pygments_lexer": "ipython3",
   "version": "3.8.8"
  }
 },
 "nbformat": 4,
 "nbformat_minor": 5
}
