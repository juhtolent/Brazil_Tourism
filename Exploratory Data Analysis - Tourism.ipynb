{
 "cells": [
  {
   "cell_type": "markdown",
   "id": "b5cc1b7b",
   "metadata": {},
   "source": [
    "# Brazilian cities to travel"
   ]
  },
  {
   "cell_type": "markdown",
   "id": "c525a901",
   "metadata": {},
   "source": [
    "<b> Goal: </b> This portfolio project showcases our expertise in data analysis through an in-depth examination of Brazilian cities identified by the Brazilian Ministry of Tourism as key destinations in their public policy plan (Mapa do Turismo/Tourism Map)"
   ]
  },
  {
   "cell_type": "code",
   "execution_count": null,
   "id": "f1c7a3dc",
   "metadata": {},
   "outputs": [],
   "source": [
    "## adicionar índice [[indice]]"
   ]
  },
  {
   "cell_type": "markdown",
   "id": "607ad6e8",
   "metadata": {},
   "source": [
    "### 1. Descriptive Analysis"
   ]
  },
  {
   "cell_type": "code",
   "execution_count": 1,
   "id": "2a736e2a",
   "metadata": {},
   "outputs": [],
   "source": [
    "import numpy as np\n",
    "import pandas as pd\n",
    "import seaborn as sns"
   ]
  },
  {
   "cell_type": "markdown",
   "id": "6e0d36a5",
   "metadata": {},
   "source": [
    "## 1.1 Categories"
   ]
  },
  {
   "cell_type": "code",
   "execution_count": 3,
   "metadata": {},
   "outputs": [
    {
     "data": {
      "text/html": [
       "<div>\n",
       "<style scoped>\n",
       "    .dataframe tbody tr th:only-of-type {\n",
       "        vertical-align: middle;\n",
       "    }\n",
       "\n",
       "    .dataframe tbody tr th {\n",
       "        vertical-align: top;\n",
       "    }\n",
       "\n",
       "    .dataframe thead th {\n",
       "        text-align: right;\n",
       "    }\n",
       "</style>\n",
       "<table border=\"1\" class=\"dataframe\">\n",
       "  <thead>\n",
       "    <tr style=\"text-align: right;\">\n",
       "      <th></th>\n",
       "      <th>MACRO</th>\n",
       "      <th>UF</th>\n",
       "      <th>REGIAO_TURISTICA</th>\n",
       "      <th>MUNICIPIO</th>\n",
       "      <th>COD_IBGE</th>\n",
       "      <th>QUANTIDADE_EMPREGOS</th>\n",
       "      <th>QUANTIDADE_ ESTABELECIMENTOS</th>\n",
       "      <th>QUANTIDADE_VISITAS_ESTIMADAS_ INTERNACIONAL</th>\n",
       "      <th>QUANTIDADE_VISITAS_ESTIMADAS_ NACIONAL</th>\n",
       "      <th>ARRECADACAO</th>\n",
       "      <th>CLUSTER</th>\n",
       "    </tr>\n",
       "  </thead>\n",
       "  <tbody>\n",
       "    <tr>\n",
       "      <th>0</th>\n",
       "      <td>Centro-Oeste</td>\n",
       "      <td>MT</td>\n",
       "      <td>Região Turística Portal do Agronegócio</td>\n",
       "      <td>Nova Mutum</td>\n",
       "      <td>5106224</td>\n",
       "      <td>89</td>\n",
       "      <td>14</td>\n",
       "      <td>0</td>\n",
       "      <td>15309</td>\n",
       "      <td>708887</td>\n",
       "      <td>C</td>\n",
       "    </tr>\n",
       "    <tr>\n",
       "      <th>1</th>\n",
       "      <td>Nordeste</td>\n",
       "      <td>MA</td>\n",
       "      <td>Polo Lagos e Campos Floridos</td>\n",
       "      <td>Cajapió</td>\n",
       "      <td>2102408</td>\n",
       "      <td>0</td>\n",
       "      <td>0</td>\n",
       "      <td>0</td>\n",
       "      <td>1376</td>\n",
       "      <td>0</td>\n",
       "      <td>D</td>\n",
       "    </tr>\n",
       "    <tr>\n",
       "      <th>2</th>\n",
       "      <td>Sudeste</td>\n",
       "      <td>MG</td>\n",
       "      <td>Caminhos da Mantiqueira</td>\n",
       "      <td>Brazópolis</td>\n",
       "      <td>3108909</td>\n",
       "      <td>6</td>\n",
       "      <td>3</td>\n",
       "      <td>0</td>\n",
       "      <td>25587</td>\n",
       "      <td>0</td>\n",
       "      <td>D</td>\n",
       "    </tr>\n",
       "    <tr>\n",
       "      <th>3</th>\n",
       "      <td>Sudeste</td>\n",
       "      <td>MG</td>\n",
       "      <td>Ouro</td>\n",
       "      <td>Caeté</td>\n",
       "      <td>3110004</td>\n",
       "      <td>310</td>\n",
       "      <td>11</td>\n",
       "      <td>0</td>\n",
       "      <td>23757</td>\n",
       "      <td>4944942</td>\n",
       "      <td>B</td>\n",
       "    </tr>\n",
       "    <tr>\n",
       "      <th>4</th>\n",
       "      <td>Sudeste</td>\n",
       "      <td>MG</td>\n",
       "      <td>Pedras Preciosas</td>\n",
       "      <td>Catuji</td>\n",
       "      <td>3115458</td>\n",
       "      <td>0</td>\n",
       "      <td>0</td>\n",
       "      <td>149</td>\n",
       "      <td>0</td>\n",
       "      <td>0</td>\n",
       "      <td>D</td>\n",
       "    </tr>\n",
       "  </tbody>\n",
       "</table>\n",
       "</div>"
      ],
      "text/plain": [
       "          MACRO  UF                        REGIAO_TURISTICA   MUNICIPIO  \\\n",
       "0  Centro-Oeste  MT  Região Turística Portal do Agronegócio  Nova Mutum   \n",
       "1      Nordeste  MA            Polo Lagos e Campos Floridos     Cajapió   \n",
       "2       Sudeste  MG                 Caminhos da Mantiqueira  Brazópolis   \n",
       "3       Sudeste  MG                                    Ouro       Caeté   \n",
       "4       Sudeste  MG                        Pedras Preciosas      Catuji   \n",
       "\n",
       "   COD_IBGE  QUANTIDADE_EMPREGOS  QUANTIDADE_ ESTABELECIMENTOS  \\\n",
       "0   5106224                   89                            14   \n",
       "1   2102408                    0                             0   \n",
       "2   3108909                    6                             3   \n",
       "3   3110004                  310                            11   \n",
       "4   3115458                    0                             0   \n",
       "\n",
       "   QUANTIDADE_VISITAS_ESTIMADAS_ INTERNACIONAL  \\\n",
       "0                                            0   \n",
       "1                                            0   \n",
       "2                                            0   \n",
       "3                                            0   \n",
       "4                                          149   \n",
       "\n",
       "   QUANTIDADE_VISITAS_ESTIMADAS_ NACIONAL  ARRECADACAO CLUSTER  \n",
       "0                                   15309       708887       C  \n",
       "1                                    1376            0       D  \n",
       "2                                   25587            0       D  \n",
       "3                                   23757      4944942       B  \n",
       "4                                       0            0       D  "
      ]
     },
     "execution_count": 3,
     "metadata": {},
     "output_type": "execute_result"
    }
   ],
   "source": [
    "df = pd.read_excel(r\"data\\relatorio_categorizacao_2019-portal.xls\")\n",
    "\n",
    "df.head()"
   ]
  },
  {
   "cell_type": "code",
   "execution_count": 5,
   "metadata": {},
   "outputs": [
    {
     "name": "stdout",
     "output_type": "stream",
     "text": [
      "<class 'pandas.core.frame.DataFrame'>\n",
      "RangeIndex: 2694 entries, 0 to 2693\n",
      "Data columns (total 11 columns):\n",
      " #   Column                                       Non-Null Count  Dtype \n",
      "---  ------                                       --------------  ----- \n",
      " 0   MACRO                                        2694 non-null   object\n",
      " 1   UF                                           2694 non-null   object\n",
      " 2   REGIAO_TURISTICA                             2694 non-null   object\n",
      " 3   MUNICIPIO                                    2694 non-null   object\n",
      " 4   COD_IBGE                                     2694 non-null   int64 \n",
      " 5   QUANTIDADE_EMPREGOS                          2694 non-null   int64 \n",
      " 6   QUANTIDADE_ ESTABELECIMENTOS                 2694 non-null   int64 \n",
      " 7   QUANTIDADE_VISITAS_ESTIMADAS_ INTERNACIONAL  2694 non-null   int64 \n",
      " 8   QUANTIDADE_VISITAS_ESTIMADAS_ NACIONAL       2694 non-null   int64 \n",
      " 9   ARRECADACAO                                  2694 non-null   int64 \n",
      " 10  CLUSTER                                      2694 non-null   object\n",
      "dtypes: int64(6), object(5)\n",
      "memory usage: 231.6+ KB\n"
     ]
    }
   ],
   "source": [
    "#showcasing data types and non-null cells in each column\n",
    "df.info()"
   ]
  },
  {
   "cell_type": "code",
   "execution_count": null,
   "metadata": {},
   "outputs": [],
   "source": [
    "## pie chart: distribuição por estado\n",
    "## stacked bar chart: distribuição de cluster por estado"
   ]
  },
  {
   "cell_type": "code",
   "execution_count": 6,
   "metadata": {},
   "outputs": [
    {
     "data": {
      "text/html": [
       "<div>\n",
       "<style scoped>\n",
       "    .dataframe tbody tr th:only-of-type {\n",
       "        vertical-align: middle;\n",
       "    }\n",
       "\n",
       "    .dataframe tbody tr th {\n",
       "        vertical-align: top;\n",
       "    }\n",
       "\n",
       "    .dataframe thead th {\n",
       "        text-align: right;\n",
       "    }\n",
       "</style>\n",
       "<table border=\"1\" class=\"dataframe\">\n",
       "  <thead>\n",
       "    <tr style=\"text-align: right;\">\n",
       "      <th></th>\n",
       "      <th>COD_IBGE</th>\n",
       "      <th>QUANTIDADE_EMPREGOS</th>\n",
       "      <th>QUANTIDADE_ ESTABELECIMENTOS</th>\n",
       "      <th>QUANTIDADE_VISITAS_ESTIMADAS_ INTERNACIONAL</th>\n",
       "      <th>QUANTIDADE_VISITAS_ESTIMADAS_ NACIONAL</th>\n",
       "      <th>ARRECADACAO</th>\n",
       "    </tr>\n",
       "  </thead>\n",
       "  <tbody>\n",
       "    <tr>\n",
       "      <th>count</th>\n",
       "      <td>2.694000e+03</td>\n",
       "      <td>2694.000000</td>\n",
       "      <td>2694.000000</td>\n",
       "      <td>2.694000e+03</td>\n",
       "      <td>2.694000e+03</td>\n",
       "      <td>2.694000e+03</td>\n",
       "    </tr>\n",
       "    <tr>\n",
       "      <th>mean</th>\n",
       "      <td>3.405169e+06</td>\n",
       "      <td>93.380475</td>\n",
       "      <td>7.516333</td>\n",
       "      <td>3.850519e+03</td>\n",
       "      <td>6.383554e+04</td>\n",
       "      <td>1.238121e+06</td>\n",
       "    </tr>\n",
       "    <tr>\n",
       "      <th>std</th>\n",
       "      <td>9.310852e+05</td>\n",
       "      <td>555.239839</td>\n",
       "      <td>26.203060</td>\n",
       "      <td>4.667117e+04</td>\n",
       "      <td>3.930170e+05</td>\n",
       "      <td>1.310179e+07</td>\n",
       "    </tr>\n",
       "    <tr>\n",
       "      <th>min</th>\n",
       "      <td>1.100015e+06</td>\n",
       "      <td>0.000000</td>\n",
       "      <td>0.000000</td>\n",
       "      <td>0.000000e+00</td>\n",
       "      <td>0.000000e+00</td>\n",
       "      <td>0.000000e+00</td>\n",
       "    </tr>\n",
       "    <tr>\n",
       "      <th>25%</th>\n",
       "      <td>2.905852e+06</td>\n",
       "      <td>0.000000</td>\n",
       "      <td>0.000000</td>\n",
       "      <td>0.000000e+00</td>\n",
       "      <td>0.000000e+00</td>\n",
       "      <td>0.000000e+00</td>\n",
       "    </tr>\n",
       "    <tr>\n",
       "      <th>50%</th>\n",
       "      <td>3.302650e+06</td>\n",
       "      <td>6.000000</td>\n",
       "      <td>2.000000</td>\n",
       "      <td>3.800000e+01</td>\n",
       "      <td>5.376500e+03</td>\n",
       "      <td>0.000000e+00</td>\n",
       "    </tr>\n",
       "    <tr>\n",
       "      <th>75%</th>\n",
       "      <td>4.205982e+06</td>\n",
       "      <td>35.000000</td>\n",
       "      <td>6.000000</td>\n",
       "      <td>3.730000e+02</td>\n",
       "      <td>2.789175e+04</td>\n",
       "      <td>0.000000e+00</td>\n",
       "    </tr>\n",
       "    <tr>\n",
       "      <th>max</th>\n",
       "      <td>5.300108e+06</td>\n",
       "      <td>17946.000000</td>\n",
       "      <td>785.000000</td>\n",
       "      <td>1.651696e+06</td>\n",
       "      <td>1.347863e+07</td>\n",
       "      <td>4.733092e+08</td>\n",
       "    </tr>\n",
       "  </tbody>\n",
       "</table>\n",
       "</div>"
      ],
      "text/plain": [
       "           COD_IBGE  QUANTIDADE_EMPREGOS  QUANTIDADE_ ESTABELECIMENTOS  \\\n",
       "count  2.694000e+03          2694.000000                   2694.000000   \n",
       "mean   3.405169e+06            93.380475                      7.516333   \n",
       "std    9.310852e+05           555.239839                     26.203060   \n",
       "min    1.100015e+06             0.000000                      0.000000   \n",
       "25%    2.905852e+06             0.000000                      0.000000   \n",
       "50%    3.302650e+06             6.000000                      2.000000   \n",
       "75%    4.205982e+06            35.000000                      6.000000   \n",
       "max    5.300108e+06         17946.000000                    785.000000   \n",
       "\n",
       "       QUANTIDADE_VISITAS_ESTIMADAS_ INTERNACIONAL  \\\n",
       "count                                 2.694000e+03   \n",
       "mean                                  3.850519e+03   \n",
       "std                                   4.667117e+04   \n",
       "min                                   0.000000e+00   \n",
       "25%                                   0.000000e+00   \n",
       "50%                                   3.800000e+01   \n",
       "75%                                   3.730000e+02   \n",
       "max                                   1.651696e+06   \n",
       "\n",
       "       QUANTIDADE_VISITAS_ESTIMADAS_ NACIONAL   ARRECADACAO  \n",
       "count                            2.694000e+03  2.694000e+03  \n",
       "mean                             6.383554e+04  1.238121e+06  \n",
       "std                              3.930170e+05  1.310179e+07  \n",
       "min                              0.000000e+00  0.000000e+00  \n",
       "25%                              0.000000e+00  0.000000e+00  \n",
       "50%                              5.376500e+03  0.000000e+00  \n",
       "75%                              2.789175e+04  0.000000e+00  \n",
       "max                              1.347863e+07  4.733092e+08  "
      ]
     },
     "execution_count": 6,
     "metadata": {},
     "output_type": "execute_result"
    }
   ],
   "source": [
    "#seeing most numbers\n",
    "df.describe()"
   ]
  },
  {
   "cell_type": "markdown",
   "metadata": {},
   "source": [
    "[[ANÁLISE SOBRE:\n",
    "- 25%-50% de demanda internacional e nacional é zero ((fazer boxplots))\n",
    "- a distância de mediana e mean em todas as métricas\n",
    "- entender o perfil de cada categoria/classe\n",
    "- entender a distribuição de 0 -- provavelmente todos os null foram convertidos em 0]]"
   ]
  },
  {
   "cell_type": "code",
   "execution_count": null,
   "metadata": {},
   "outputs": [],
   "source": [
    "##boxplot de todas as métricas\n",
    "## count 0 (possi)"
   ]
  },
  {
   "cell_type": "markdown",
   "metadata": {},
   "source": [
    "## 1.2 Histórico\n",
    "\n",
    "avaliar quais métricas conseguem ser cruzadas com o histórico 2016 e 2017."
   ]
  },
  {
   "cell_type": "markdown",
   "metadata": {},
   "source": []
  }
 ],
 "metadata": {
  "kernelspec": {
   "display_name": "Python 3",
   "language": "python",
   "name": "python3"
  },
  "language_info": {
   "codemirror_mode": {
    "name": "ipython",
    "version": 3
   },
   "file_extension": ".py",
   "mimetype": "text/x-python",
   "name": "python",
   "nbconvert_exporter": "python",
   "pygments_lexer": "ipython3",
   "version": "3.12.0"
  }
 },
 "nbformat": 4,
 "nbformat_minor": 5
}
