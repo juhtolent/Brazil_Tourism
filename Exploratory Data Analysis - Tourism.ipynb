{
 "cells": [
  {
   "cell_type": "markdown",
   "id": "b5cc1b7b",
   "metadata": {},
   "source": [
    "# Brazilian cities to travel"
   ]
  },
  {
   "cell_type": "markdown",
   "id": "c525a901",
   "metadata": {},
   "source": [
    "<b> Goal: </b> This portfolio project showcases our expertise in data analysis through an in-depth examination of Brazilian cities identified by the Brazilian Ministry of Tourism as key destinations in their public policy plan (Mapa do Turismo/Tourism Map)"
   ]
  },
  {
   "cell_type": "code",
   "execution_count": 2,
   "id": "f1c7a3dc",
   "metadata": {},
   "outputs": [],
   "source": [
    "## adicionar índice [[indice]]"
   ]
  },
  {
   "cell_type": "markdown",
   "id": "607ad6e8",
   "metadata": {},
   "source": [
    "## 1. Descriptive Analysis"
   ]
  },
  {
   "cell_type": "code",
   "execution_count": 15,
   "id": "2a736e2a",
   "metadata": {},
   "outputs": [],
   "source": [
    "import pandas as pd\n",
    "import matplotlib.pyplot as plt\n",
    "import plotly.express as px\n",
    "import seaborn as sns"
   ]
  },
  {
   "cell_type": "code",
   "execution_count": 4,
   "metadata": {},
   "outputs": [
    {
     "data": {
      "text/html": [
       "<div>\n",
       "<style scoped>\n",
       "    .dataframe tbody tr th:only-of-type {\n",
       "        vertical-align: middle;\n",
       "    }\n",
       "\n",
       "    .dataframe tbody tr th {\n",
       "        vertical-align: top;\n",
       "    }\n",
       "\n",
       "    .dataframe thead th {\n",
       "        text-align: right;\n",
       "    }\n",
       "</style>\n",
       "<table border=\"1\" class=\"dataframe\">\n",
       "  <thead>\n",
       "    <tr style=\"text-align: right;\">\n",
       "      <th></th>\n",
       "      <th>MACRO</th>\n",
       "      <th>UF</th>\n",
       "      <th>REGIAO_TURISTICA</th>\n",
       "      <th>MUNICIPIO</th>\n",
       "      <th>COD_IBGE</th>\n",
       "      <th>QUANTIDADE_EMPREGOS</th>\n",
       "      <th>QUANTIDADE_ ESTABELECIMENTOS</th>\n",
       "      <th>QUANTIDADE_VISITAS_ESTIMADAS_ INTERNACIONAL</th>\n",
       "      <th>QUANTIDADE_VISITAS_ESTIMADAS_ NACIONAL</th>\n",
       "      <th>ARRECADACAO</th>\n",
       "      <th>CLUSTER</th>\n",
       "    </tr>\n",
       "  </thead>\n",
       "  <tbody>\n",
       "    <tr>\n",
       "      <th>0</th>\n",
       "      <td>Centro-Oeste</td>\n",
       "      <td>MT</td>\n",
       "      <td>Região Turística Portal do Agronegócio</td>\n",
       "      <td>Nova Mutum</td>\n",
       "      <td>5106224</td>\n",
       "      <td>89</td>\n",
       "      <td>14</td>\n",
       "      <td>0</td>\n",
       "      <td>15309</td>\n",
       "      <td>708887</td>\n",
       "      <td>C</td>\n",
       "    </tr>\n",
       "    <tr>\n",
       "      <th>1</th>\n",
       "      <td>Nordeste</td>\n",
       "      <td>MA</td>\n",
       "      <td>Polo Lagos e Campos Floridos</td>\n",
       "      <td>Cajapió</td>\n",
       "      <td>2102408</td>\n",
       "      <td>0</td>\n",
       "      <td>0</td>\n",
       "      <td>0</td>\n",
       "      <td>1376</td>\n",
       "      <td>0</td>\n",
       "      <td>D</td>\n",
       "    </tr>\n",
       "    <tr>\n",
       "      <th>2</th>\n",
       "      <td>Sudeste</td>\n",
       "      <td>MG</td>\n",
       "      <td>Caminhos da Mantiqueira</td>\n",
       "      <td>Brazópolis</td>\n",
       "      <td>3108909</td>\n",
       "      <td>6</td>\n",
       "      <td>3</td>\n",
       "      <td>0</td>\n",
       "      <td>25587</td>\n",
       "      <td>0</td>\n",
       "      <td>D</td>\n",
       "    </tr>\n",
       "    <tr>\n",
       "      <th>3</th>\n",
       "      <td>Sudeste</td>\n",
       "      <td>MG</td>\n",
       "      <td>Ouro</td>\n",
       "      <td>Caeté</td>\n",
       "      <td>3110004</td>\n",
       "      <td>310</td>\n",
       "      <td>11</td>\n",
       "      <td>0</td>\n",
       "      <td>23757</td>\n",
       "      <td>4944942</td>\n",
       "      <td>B</td>\n",
       "    </tr>\n",
       "    <tr>\n",
       "      <th>4</th>\n",
       "      <td>Sudeste</td>\n",
       "      <td>MG</td>\n",
       "      <td>Pedras Preciosas</td>\n",
       "      <td>Catuji</td>\n",
       "      <td>3115458</td>\n",
       "      <td>0</td>\n",
       "      <td>0</td>\n",
       "      <td>149</td>\n",
       "      <td>0</td>\n",
       "      <td>0</td>\n",
       "      <td>D</td>\n",
       "    </tr>\n",
       "  </tbody>\n",
       "</table>\n",
       "</div>"
      ],
      "text/plain": [
       "          MACRO  UF                        REGIAO_TURISTICA   MUNICIPIO  \\\n",
       "0  Centro-Oeste  MT  Região Turística Portal do Agronegócio  Nova Mutum   \n",
       "1      Nordeste  MA            Polo Lagos e Campos Floridos     Cajapió   \n",
       "2       Sudeste  MG                 Caminhos da Mantiqueira  Brazópolis   \n",
       "3       Sudeste  MG                                    Ouro       Caeté   \n",
       "4       Sudeste  MG                        Pedras Preciosas      Catuji   \n",
       "\n",
       "   COD_IBGE  QUANTIDADE_EMPREGOS  QUANTIDADE_ ESTABELECIMENTOS  \\\n",
       "0   5106224                   89                            14   \n",
       "1   2102408                    0                             0   \n",
       "2   3108909                    6                             3   \n",
       "3   3110004                  310                            11   \n",
       "4   3115458                    0                             0   \n",
       "\n",
       "   QUANTIDADE_VISITAS_ESTIMADAS_ INTERNACIONAL  \\\n",
       "0                                            0   \n",
       "1                                            0   \n",
       "2                                            0   \n",
       "3                                            0   \n",
       "4                                          149   \n",
       "\n",
       "   QUANTIDADE_VISITAS_ESTIMADAS_ NACIONAL  ARRECADACAO CLUSTER  \n",
       "0                                   15309       708887       C  \n",
       "1                                    1376            0       D  \n",
       "2                                   25587            0       D  \n",
       "3                                   23757      4944942       B  \n",
       "4                                       0            0       D  "
      ]
     },
     "execution_count": 4,
     "metadata": {},
     "output_type": "execute_result"
    }
   ],
   "source": [
    "df = pd.read_excel(r\"data\\relatorio_categorizacao_2019-portal.xls\")\n",
    "\n",
    "df.head()"
   ]
  },
  {
   "cell_type": "code",
   "execution_count": 5,
   "metadata": {},
   "outputs": [
    {
     "name": "stdout",
     "output_type": "stream",
     "text": [
      "<class 'pandas.core.frame.DataFrame'>\n",
      "RangeIndex: 2694 entries, 0 to 2693\n",
      "Data columns (total 11 columns):\n",
      " #   Column                                       Non-Null Count  Dtype \n",
      "---  ------                                       --------------  ----- \n",
      " 0   MACRO                                        2694 non-null   object\n",
      " 1   UF                                           2694 non-null   object\n",
      " 2   REGIAO_TURISTICA                             2694 non-null   object\n",
      " 3   MUNICIPIO                                    2694 non-null   object\n",
      " 4   COD_IBGE                                     2694 non-null   int64 \n",
      " 5   QUANTIDADE_EMPREGOS                          2694 non-null   int64 \n",
      " 6   QUANTIDADE_ ESTABELECIMENTOS                 2694 non-null   int64 \n",
      " 7   QUANTIDADE_VISITAS_ESTIMADAS_ INTERNACIONAL  2694 non-null   int64 \n",
      " 8   QUANTIDADE_VISITAS_ESTIMADAS_ NACIONAL       2694 non-null   int64 \n",
      " 9   ARRECADACAO                                  2694 non-null   int64 \n",
      " 10  CLUSTER                                      2694 non-null   object\n",
      "dtypes: int64(6), object(5)\n",
      "memory usage: 231.6+ KB\n"
     ]
    }
   ],
   "source": [
    "#showcasing data types and non-null cells in each column\n",
    "df.info()"
   ]
  },
  {
   "cell_type": "markdown",
   "id": "2baaf0ea",
   "metadata": {},
   "source": [
    "All cells have information in them, there isn't a single null object in this dataset. With the information that we have so far, no conclusion can be made, but this description can be further explore in other data."
   ]
  },
  {
   "cell_type": "markdown",
   "metadata": {},
   "source": [
    "### 1.1 Distribution of Turistic States"
   ]
  },
  {
   "cell_type": "code",
   "execution_count": 6,
   "metadata": {},
   "outputs": [
    {
     "data": {
      "text/html": [
       "<div>\n",
       "<style scoped>\n",
       "    .dataframe tbody tr th:only-of-type {\n",
       "        vertical-align: middle;\n",
       "    }\n",
       "\n",
       "    .dataframe tbody tr th {\n",
       "        vertical-align: top;\n",
       "    }\n",
       "\n",
       "    .dataframe thead th {\n",
       "        text-align: right;\n",
       "    }\n",
       "</style>\n",
       "<table border=\"1\" class=\"dataframe\">\n",
       "  <thead>\n",
       "    <tr style=\"text-align: right;\">\n",
       "      <th></th>\n",
       "      <th>UF</th>\n",
       "      <th>MUNICIPIO</th>\n",
       "      <th>% MUNICIPIO TURISMO</th>\n",
       "    </tr>\n",
       "  </thead>\n",
       "  <tbody>\n",
       "    <tr>\n",
       "      <th>0</th>\n",
       "      <td>MG</td>\n",
       "      <td>471</td>\n",
       "      <td>17.5</td>\n",
       "    </tr>\n",
       "    <tr>\n",
       "      <th>1</th>\n",
       "      <td>SP</td>\n",
       "      <td>354</td>\n",
       "      <td>13.1</td>\n",
       "    </tr>\n",
       "    <tr>\n",
       "      <th>2</th>\n",
       "      <td>RS</td>\n",
       "      <td>345</td>\n",
       "      <td>12.8</td>\n",
       "    </tr>\n",
       "    <tr>\n",
       "      <th>3</th>\n",
       "      <td>PR</td>\n",
       "      <td>217</td>\n",
       "      <td>8.1</td>\n",
       "    </tr>\n",
       "    <tr>\n",
       "      <th>4</th>\n",
       "      <td>SC</td>\n",
       "      <td>177</td>\n",
       "      <td>6.6</td>\n",
       "    </tr>\n",
       "  </tbody>\n",
       "</table>\n",
       "</div>"
      ],
      "text/plain": [
       "   UF  MUNICIPIO  % MUNICIPIO TURISMO\n",
       "0  MG        471                 17.5\n",
       "1  SP        354                 13.1\n",
       "2  RS        345                 12.8\n",
       "3  PR        217                  8.1\n",
       "4  SC        177                  6.6"
      ]
     },
     "execution_count": 6,
     "metadata": {},
     "output_type": "execute_result"
    }
   ],
   "source": [
    "#distribution of uf (States) in the 2019 dataset\n",
    "\n",
    "#creating the pivot_table in which the pie chart will be based on\n",
    "df_count_uf = pd.pivot_table(data = df,\n",
    "                             values = 'MUNICIPIO',\n",
    "                             index = 'UF',\n",
    "                             aggfunc='count').sort_values(by='MUNICIPIO',ascending=False).reset_index()\n",
    "\n",
    "df_count_uf['% MUNICIPIO TURISMO'] = round((df_count_uf['MUNICIPIO']/df_count_uf['MUNICIPIO'].sum())*100,1)\n",
    "\n",
    "df_count_uf.head()"
   ]
  },
  {
   "cell_type": "code",
   "execution_count": 7,
   "metadata": {},
   "outputs": [
    {
     "data": {
      "text/plain": [
       "(5570, 14)"
      ]
     },
     "execution_count": 7,
     "metadata": {},
     "output_type": "execute_result"
    }
   ],
   "source": [
    "# comparing the distribution in the categorized dataset to that of all brazilian cities\n",
    "\n",
    "df_munic = pd.read_excel(r\"data\\RELATORIO_DTB_BRASIL_MUNICIPIO.xls\", header = 6)\n",
    "\n",
    "df_munic.shape"
   ]
  },
  {
   "cell_type": "code",
   "execution_count": 60,
   "metadata": {},
   "outputs": [
    {
     "data": {
      "text/html": [
       "<div>\n",
       "<style scoped>\n",
       "    .dataframe tbody tr th:only-of-type {\n",
       "        vertical-align: middle;\n",
       "    }\n",
       "\n",
       "    .dataframe tbody tr th {\n",
       "        vertical-align: top;\n",
       "    }\n",
       "\n",
       "    .dataframe thead th {\n",
       "        text-align: right;\n",
       "    }\n",
       "</style>\n",
       "<table border=\"1\" class=\"dataframe\">\n",
       "  <thead>\n",
       "    <tr style=\"text-align: right;\">\n",
       "      <th></th>\n",
       "      <th>Uf</th>\n",
       "      <th>Proportion</th>\n",
       "      <th>% Percentage</th>\n",
       "    </tr>\n",
       "  </thead>\n",
       "  <tbody>\n",
       "    <tr>\n",
       "      <th>0</th>\n",
       "      <td>MG</td>\n",
       "      <td>% MUNICIPIO TURISMO</td>\n",
       "      <td>17.5</td>\n",
       "    </tr>\n",
       "    <tr>\n",
       "      <th>1</th>\n",
       "      <td>SP</td>\n",
       "      <td>% MUNICIPIO TURISMO</td>\n",
       "      <td>13.1</td>\n",
       "    </tr>\n",
       "    <tr>\n",
       "      <th>2</th>\n",
       "      <td>RS</td>\n",
       "      <td>% MUNICIPIO TURISMO</td>\n",
       "      <td>12.8</td>\n",
       "    </tr>\n",
       "    <tr>\n",
       "      <th>3</th>\n",
       "      <td>PR</td>\n",
       "      <td>% MUNICIPIO TURISMO</td>\n",
       "      <td>8.1</td>\n",
       "    </tr>\n",
       "    <tr>\n",
       "      <th>4</th>\n",
       "      <td>SC</td>\n",
       "      <td>% MUNICIPIO TURISMO</td>\n",
       "      <td>6.6</td>\n",
       "    </tr>\n",
       "  </tbody>\n",
       "</table>\n",
       "</div>"
      ],
      "text/plain": [
       "   Uf           Proportion  % Percentage\n",
       "0  MG  % MUNICIPIO TURISMO          17.5\n",
       "1  SP  % MUNICIPIO TURISMO          13.1\n",
       "2  RS  % MUNICIPIO TURISMO          12.8\n",
       "3  PR  % MUNICIPIO TURISMO           8.1\n",
       "4  SC  % MUNICIPIO TURISMO           6.6"
      ]
     },
     "execution_count": 60,
     "metadata": {},
     "output_type": "execute_result"
    }
   ],
   "source": [
    "# making a pivot table of the total cities in Brazil \n",
    "#in order to compare the distribution of the total turist cities \n",
    "\n",
    "df_count_munic_total = pd.pivot_table(data = df_munic,\n",
    "                             values = 'MUNICIPIO',\n",
    "                             index = 'UF',\n",
    "                             aggfunc='count').sort_values(by='MUNICIPIO',ascending=False).reset_index()\n",
    "\n",
    "df_count_munic_total['% MUNICIPIO TOTAL'] = round((df_count_munic_total['MUNICIPIO']/df_count_munic_total['MUNICIPIO'].sum())*100,1)\n",
    "\n",
    "#merging the first pivot table and the total\n",
    "df_compare = pd.merge(df_count_uf[['UF','% MUNICIPIO TURISMO']],\n",
    "                     df_count_munic_total[['UF','% MUNICIPIO TOTAL']], \n",
    "                     how = \"outer\", \n",
    "                     on='UF')\n",
    "\n",
    "df_compare = df_compare.melt(id_vars='UF',value_name='% Percentage',var_name = 'Proportion').rename(columns=str.title)\n",
    "\n",
    "df_compare.head()"
   ]
  },
  {
   "cell_type": "code",
   "execution_count": 61,
   "id": "cb34ac0f",
   "metadata": {},
   "outputs": [
    {
     "data": {
      "image/png": "[encoded data removed]",
      "text/plain": [
       "<Figure size 1500x600 with 1 Axes>"
      ]
     },
     "metadata": {},
     "output_type": "display_data"
    }
   ],
   "source": [
    "plt.figure(figsize=(15,6))\n",
    "fig_states = sns.barplot(\n",
    "            data=df_compare, \n",
    "            x=\"Uf\", \n",
    "            y=\"% Percentage\", \n",
    "            hue=\"Proportion\",\n",
    "            palette=\"dark\"\n",
    ")\n",
    "\n",
    "fig_states.set_title(\"Comparing Tursitic Cities distribution to all Brazilian cities\")\n",
    "fig_states.margins(y=0.1) # make room for the labels\n",
    "for bars in fig_states.containers:\n",
    "   fig_states.bar_label(bars, fmt='%.1f')\n",
    "\n"
   ]
  },
  {
   "cell_type": "markdown",
   "metadata": {},
   "source": [
    "Generally, <b> the distribution accompanies the general distribution of cities in Brazil as a whole </b>. Some notable exceptions are: RS (Rio Grande do Sul), BA (Bahia) and PI (Piauí). Therefore, we can conclude that there is not a significant misrepresentation of each reagion, even though the database is imbalanced."
   ]
  },
  {
   "cell_type": "markdown",
   "metadata": {},
   "source": [
    "### 1.2 Quantitative Measures"
   ]
  },
  {
   "cell_type": "code",
   "execution_count": 10,
   "metadata": {},
   "outputs": [
    {
     "data": {
      "text/html": [
       "<div>\n",
       "<style scoped>\n",
       "    .dataframe tbody tr th:only-of-type {\n",
       "        vertical-align: middle;\n",
       "    }\n",
       "\n",
       "    .dataframe tbody tr th {\n",
       "        vertical-align: top;\n",
       "    }\n",
       "\n",
       "    .dataframe thead th {\n",
       "        text-align: right;\n",
       "    }\n",
       "</style>\n",
       "<table border=\"1\" class=\"dataframe\">\n",
       "  <thead>\n",
       "    <tr style=\"text-align: right;\">\n",
       "      <th></th>\n",
       "      <th>COD_IBGE</th>\n",
       "      <th>QUANTIDADE_EMPREGOS</th>\n",
       "      <th>QUANTIDADE_ ESTABELECIMENTOS</th>\n",
       "      <th>QUANTIDADE_VISITAS_ESTIMADAS_ INTERNACIONAL</th>\n",
       "      <th>QUANTIDADE_VISITAS_ESTIMADAS_ NACIONAL</th>\n",
       "      <th>ARRECADACAO</th>\n",
       "    </tr>\n",
       "  </thead>\n",
       "  <tbody>\n",
       "    <tr>\n",
       "      <th>count</th>\n",
       "      <td>2.694000e+03</td>\n",
       "      <td>2694.000000</td>\n",
       "      <td>2694.000000</td>\n",
       "      <td>2.694000e+03</td>\n",
       "      <td>2.694000e+03</td>\n",
       "      <td>2.694000e+03</td>\n",
       "    </tr>\n",
       "    <tr>\n",
       "      <th>mean</th>\n",
       "      <td>3.405169e+06</td>\n",
       "      <td>93.380475</td>\n",
       "      <td>7.516333</td>\n",
       "      <td>3.850519e+03</td>\n",
       "      <td>6.383554e+04</td>\n",
       "      <td>1.238121e+06</td>\n",
       "    </tr>\n",
       "    <tr>\n",
       "      <th>std</th>\n",
       "      <td>9.310852e+05</td>\n",
       "      <td>555.239839</td>\n",
       "      <td>26.203060</td>\n",
       "      <td>4.667117e+04</td>\n",
       "      <td>3.930170e+05</td>\n",
       "      <td>1.310179e+07</td>\n",
       "    </tr>\n",
       "    <tr>\n",
       "      <th>min</th>\n",
       "      <td>1.100015e+06</td>\n",
       "      <td>0.000000</td>\n",
       "      <td>0.000000</td>\n",
       "      <td>0.000000e+00</td>\n",
       "      <td>0.000000e+00</td>\n",
       "      <td>0.000000e+00</td>\n",
       "    </tr>\n",
       "    <tr>\n",
       "      <th>25%</th>\n",
       "      <td>2.905852e+06</td>\n",
       "      <td>0.000000</td>\n",
       "      <td>0.000000</td>\n",
       "      <td>0.000000e+00</td>\n",
       "      <td>0.000000e+00</td>\n",
       "      <td>0.000000e+00</td>\n",
       "    </tr>\n",
       "    <tr>\n",
       "      <th>50%</th>\n",
       "      <td>3.302650e+06</td>\n",
       "      <td>6.000000</td>\n",
       "      <td>2.000000</td>\n",
       "      <td>3.800000e+01</td>\n",
       "      <td>5.376500e+03</td>\n",
       "      <td>0.000000e+00</td>\n",
       "    </tr>\n",
       "    <tr>\n",
       "      <th>75%</th>\n",
       "      <td>4.205982e+06</td>\n",
       "      <td>35.000000</td>\n",
       "      <td>6.000000</td>\n",
       "      <td>3.730000e+02</td>\n",
       "      <td>2.789175e+04</td>\n",
       "      <td>0.000000e+00</td>\n",
       "    </tr>\n",
       "    <tr>\n",
       "      <th>max</th>\n",
       "      <td>5.300108e+06</td>\n",
       "      <td>17946.000000</td>\n",
       "      <td>785.000000</td>\n",
       "      <td>1.651696e+06</td>\n",
       "      <td>1.347863e+07</td>\n",
       "      <td>4.733092e+08</td>\n",
       "    </tr>\n",
       "  </tbody>\n",
       "</table>\n",
       "</div>"
      ],
      "text/plain": [
       "           COD_IBGE  QUANTIDADE_EMPREGOS  QUANTIDADE_ ESTABELECIMENTOS  \\\n",
       "count  2.694000e+03          2694.000000                   2694.000000   \n",
       "mean   3.405169e+06            93.380475                      7.516333   \n",
       "std    9.310852e+05           555.239839                     26.203060   \n",
       "min    1.100015e+06             0.000000                      0.000000   \n",
       "25%    2.905852e+06             0.000000                      0.000000   \n",
       "50%    3.302650e+06             6.000000                      2.000000   \n",
       "75%    4.205982e+06            35.000000                      6.000000   \n",
       "max    5.300108e+06         17946.000000                    785.000000   \n",
       "\n",
       "       QUANTIDADE_VISITAS_ESTIMADAS_ INTERNACIONAL  \\\n",
       "count                                 2.694000e+03   \n",
       "mean                                  3.850519e+03   \n",
       "std                                   4.667117e+04   \n",
       "min                                   0.000000e+00   \n",
       "25%                                   0.000000e+00   \n",
       "50%                                   3.800000e+01   \n",
       "75%                                   3.730000e+02   \n",
       "max                                   1.651696e+06   \n",
       "\n",
       "       QUANTIDADE_VISITAS_ESTIMADAS_ NACIONAL   ARRECADACAO  \n",
       "count                            2.694000e+03  2.694000e+03  \n",
       "mean                             6.383554e+04  1.238121e+06  \n",
       "std                              3.930170e+05  1.310179e+07  \n",
       "min                              0.000000e+00  0.000000e+00  \n",
       "25%                              0.000000e+00  0.000000e+00  \n",
       "50%                              5.376500e+03  0.000000e+00  \n",
       "75%                              2.789175e+04  0.000000e+00  \n",
       "max                              1.347863e+07  4.733092e+08  "
      ]
     },
     "execution_count": 10,
     "metadata": {},
     "output_type": "execute_result"
    }
   ],
   "source": [
    "#seeing most numbers\n",
    "df.describe()"
   ]
  },
  {
   "cell_type": "markdown",
   "metadata": {},
   "source": [
    "Looking at the numbers above, there are noteworthy trends that need to be discussed:\n",
    "1) <b> ZEROS:</b> On most columns, the lower quartile is 0, what shows that a good chunk of the data is 0. To understand the distribution of these columns, let's create a histogram and a boxplot. This will reveal potential outliers, skew, and normality, which are crucial for further analysis. This information, accompanied to the fact that there isn't a single null in this dataset, turns us to the hypothesis that missing values were replaced with zeros. <br>\n",
    "<br>\n",
    "2) <b> MEAN versus MEDIAN:</b> A common way to infer the distribution of data is looking through the difference between the values of mean and median. In this dataset, there is a significant distance between both metrics, signalizing that there many outliers and internal groups that can be categorized. Therefore, it is important to analyze how the categories (column \"CLUSTER\") differ in each metric. <br>"
   ]
  },
  {
   "cell_type": "markdown",
   "id": "6bbec8f1",
   "metadata": {},
   "source": [
    "#### 1.21 ZEROS"
   ]
  },
  {
   "cell_type": "code",
   "execution_count": 67,
   "id": "108fc834",
   "metadata": {},
   "outputs": [
    {
     "data": {
      "text/plain": [
       "(0.0, 200.0)"
      ]
     },
     "execution_count": 67,
     "metadata": {},
     "output_type": "execute_result"
    },
    {
     "data": {
      "image/png": "[encoded data removed]",
      "text/plain": [
       "<Figure size 640x480 with 1 Axes>"
      ]
     },
     "metadata": {},
     "output_type": "display_data"
    }
   ],
   "source": [
    "sns.histplot(data = df, \n",
    "             x='QUANTIDADE_ ESTABELECIMENTOS').set_xlim(0,200)"
   ]
  },
  {
   "cell_type": "code",
   "execution_count": null,
   "metadata": {},
   "outputs": [],
   "source": [
    "##boxplot de todas as métricas\n",
    "## count 0 (possi)\n",
    "## boxplot comparativo entre os \"clusters\""
   ]
  },
  {
   "cell_type": "markdown",
   "metadata": {},
   "source": [
    "## 1.2 Histórico\n",
    "\n",
    "avaliar quais métricas conseguem ser cruzadas com o histórico 2016 e 2017."
   ]
  },
  {
   "cell_type": "markdown",
   "metadata": {},
   "source": []
  }
 ],
 "metadata": {
  "kernelspec": {
   "display_name": "Python 3",
   "language": "python",
   "name": "python3"
  },
  "language_info": {
   "codemirror_mode": {
    "name": "ipython",
    "version": 3
   },
   "file_extension": ".py",
   "mimetype": "text/x-python",
   "name": "python",
   "nbconvert_exporter": "python",
   "pygments_lexer": "ipython3",
   "version": "3.12.0"
  }
 },
 "nbformat": 4,
 "nbformat_minor": 5
}
